{
  "nbformat": 4,
  "nbformat_minor": 0,
  "metadata": {
    "colab": {
      "name": "Data independent pruning - MLP .ipynb",
      "provenance": [],
      "collapsed_sections": [],
      "mount_file_id": "1ujlRb2uzEd6PS3vHMKwpOwzKYiYRpTuk",
      "authorship_tag": "ABX9TyO+XbwCUmWCP8F4iMv1SxIM",
      "include_colab_link": true
    },
    "kernelspec": {
      "display_name": "Python 3",
      "name": "python3"
    },
    "language_info": {
      "name": "python"
    }
  },
  "cells": [
    {
      "cell_type": "markdown",
      "metadata": {
        "id": "view-in-github",
        "colab_type": "text"
      },
      "source": [
        "<a href=\"https://colab.research.google.com/github/Jayesh-CSE/Data-independent-pruning-using-Coresets/blob/main/Data_independent_pruning_MLP_.ipynb\" target=\"_parent\"><img src=\"https://colab.research.google.com/assets/colab-badge.svg\" alt=\"Open In Colab\"/></a>"
      ]
    },
    {
      "cell_type": "code",
      "metadata": {
        "id": "0GorivGdzbco"
      },
      "source": [
        "import torch\n",
        "import torchvision\n",
        "import torchvision.transforms as transforms\n",
        "import torch.nn as nn\n",
        "import torch.nn.functional as F\n",
        "import torch.optim as optim\n",
        "import numpy as np\n",
        "# import torch.nn.utils.prune as prune\n",
        "from typing import Callable, Tuple, Union\n",
        "import sys\n",
        "from matplotlib import pyplot as plt"
      ],
      "execution_count": null,
      "outputs": []
    },
    {
      "cell_type": "code",
      "metadata": {
        "id": "o2TMW4iP0pfW"
      },
      "source": [
        "#cd /content/drive/MyDrive/Data Independent Pruning Coreset"
      ],
      "execution_count": null,
      "outputs": []
    },
    {
      "cell_type": "code",
      "metadata": {
        "id": "avtxpJNa0Fpy"
      },
      "source": [
        "batch_size = 128\n",
        "\n",
        "transform = transforms.Compose(\n",
        "    [transforms.ToTensor(),\n",
        "     transforms.Normalize((0.13066), (0.30810))])\n",
        "\n",
        "trainset = torchvision.datasets.MNIST(root='/content/drive/MyDrive/Data Independent Pruning Coreset/data', train=True,\n",
        "                                        download=True, transform=transform)\n",
        "trainloader = torch.utils.data.DataLoader(trainset, batch_size=batch_size,\n",
        "                                          shuffle=False, num_workers=2)\n",
        "\n",
        "testset = torchvision.datasets.MNIST(root='/content/drive/MyDrive/Data Independent Pruning Coreset/data', train=False,\n",
        "                                       download=True, transform=transform)\n",
        "testloader = torch.utils.data.DataLoader(testset, batch_size=batch_size,\n",
        "                                         shuffle=False, num_workers=2)\n",
        "\n",
        "classes = [str(i) for i in range(10)]"
      ],
      "execution_count": null,
      "outputs": []
    },
    {
      "cell_type": "code",
      "metadata": {
        "id": "OrPnrep10i9f"
      },
      "source": [
        "class Net(nn.Module):\n",
        "    def __init__(self, in_size=28*28, num_n1=10000, num_n2 = 5000, cache_activation=False):\n",
        "        super().__init__()\n",
        "        self.fc1 = nn.Linear(in_size, num_n1)\n",
        "        self.fc2 = nn.Linear(num_n1, num_n2)\n",
        "        self.fc3 = nn.Linear(num_n2, 10)\n",
        "        self.cache_activation = cache_activation\n",
        "\n",
        "    def forward(self, x):\n",
        "        x0 = x.view(x.size(0), -1)\n",
        "        x1 = F.relu(self.fc1(x0))\n",
        "        x2 = F.relu(self.fc2(x1))\n",
        "        x3 = self.fc3(x2)\n",
        "        \n",
        "        if self.cache_activation:\n",
        "            return x1, x2, x3\n",
        "        else:\n",
        "            return x3"
      ],
      "execution_count": null,
      "outputs": []
    },
    {
      "cell_type": "code",
      "metadata": {
        "id": "IQnOlYK50yiO"
      },
      "source": [
        "def train(epochs, lr=0.01):\n",
        "    \n",
        "    #criterion = nn.CrossEntropyLoss().cuda()\n",
        "    criterion = nn.CrossEntropyLoss()\n",
        "    optimizer = optim.SGD(model.parameters(), lr=lr, momentum=0.9)\n",
        "    \n",
        "    for ep in range(epochs):\n",
        "        for (x, y) in list(trainloader):\n",
        "            \n",
        "            optimizer.zero_grad()\n",
        "           #output = model(x.cuda(0, non_blocking=True))\n",
        "            output = model(x)\n",
        "            if model.cache_activation:\n",
        "                output = output[-1]\n",
        "            #ls = criterion(output, y.cuda(0, non_blocking=True))\n",
        "            ls = criterion(output, y)\n",
        "            ls.backward()\n",
        "            optimizer.step()\n",
        "            \n",
        "        print(ep+1, validate(testloader, model))"
      ],
      "execution_count": null,
      "outputs": []
    },
    {
      "cell_type": "code",
      "metadata": {
        "id": "9hf4RLIZ01NZ"
      },
      "source": [
        "def validate(loader, model):\n",
        "    \n",
        "    model.eval()\n",
        "    acc = 0\n",
        "    n = 0\n",
        "    \n",
        "    with torch.no_grad():\n",
        "        for i, (inp, target) in enumerate(loader):\n",
        "            #output = model(inp.cuda(non_blocking=True))\n",
        "            output = model(inp)\n",
        "            if model.cache_activation:\n",
        "                output = output[-1]\n",
        "            _, pred = torch.max(output, 1)\n",
        "            #acc += (pred == target.cuda(non_blocking=True)).sum().item()\n",
        "            acc += (pred == target).sum().item()\n",
        "            n += len(target)\n",
        "            \n",
        "    acc = acc/n\n",
        "    return acc"
      ],
      "execution_count": null,
      "outputs": []
    },
    {
      "cell_type": "code",
      "metadata": {
        "colab": {
          "base_uri": "https://localhost:8080/"
        },
        "id": "e6hIznwF035Y",
        "outputId": "9a5d7705-c3f6-4994-e1b5-3d4bfd745ac2"
      },
      "source": [
        "num_n1 = int(1e4)\n",
        "num_n2 = int(5e3)\n",
        "model = Net(28*28, num_n1, num_n2, True)\n",
        "#train(10, 0.01)\n",
        "\n",
        "# torch.cuda.set_device()\n",
        "# torch.save(model.state_dict(), '/content/drive/MyDrive/Data Independent Pruning Coreset/v_fc_{}_{}'.format(num_n1, num_n2))\n",
        "model.load_state_dict(torch.load('/content/drive/MyDrive/Data Independent Pruning Coreset/v_fc_{}_{}'.format(num_n1, num_n2)))\n",
        "#model = model.cuda()"
      ],
      "execution_count": null,
      "outputs": [
        {
          "output_type": "execute_result",
          "data": {
            "text/plain": [
              "<All keys matched successfully>"
            ]
          },
          "metadata": {},
          "execution_count": 270
        }
      ]
    },
    {
      "cell_type": "code",
      "metadata": {
        "id": "zHQMtRm54hUS"
      },
      "source": [
        "torch.save(model.state_dict(), '/content/drive/MyDrive/Data Independent Pruning Coreset/v_fc_{}_{}'.format(num_n1, num_n2))"
      ],
      "execution_count": null,
      "outputs": []
    },
    {
      "cell_type": "code",
      "metadata": {
        "colab": {
          "base_uri": "https://localhost:8080/"
        },
        "id": "dtzUN_wH06Wf",
        "outputId": "5f69ee61-451d-4a00-8b4c-e165fcf6af72"
      },
      "source": [
        "print('Epoch', 0, 'Neurons', num_n1, num_n2)\n",
        "print('Test acc', validate(testloader, model))"
      ],
      "execution_count": null,
      "outputs": [
        {
          "output_type": "stream",
          "name": "stdout",
          "text": [
            "Epoch 0 Neurons 10000 5000\n",
            "Test acc 0.982\n"
          ]
        }
      ]
    },
    {
      "cell_type": "code",
      "metadata": {
        "colab": {
          "base_uri": "https://localhost:8080/"
        },
        "id": "7Jm8XD7H09UY",
        "outputId": "99924c4c-ff7d-4621-8388-6649d997c2c3"
      },
      "source": [
        "print(model)"
      ],
      "execution_count": null,
      "outputs": [
        {
          "output_type": "stream",
          "name": "stdout",
          "text": [
            "Net(\n",
            "  (fc1): Linear(in_features=784, out_features=10000, bias=True)\n",
            "  (fc2): Linear(in_features=10000, out_features=5000, bias=True)\n",
            "  (fc3): Linear(in_features=5000, out_features=10, bias=True)\n",
            ")\n"
          ]
        }
      ]
    },
    {
      "cell_type": "code",
      "metadata": {
        "id": "a9ACXSiE51WM"
      },
      "source": [
        "class Coreset:\n",
        "    def __init__(self, points, weights, activation_function: Callable, upper_bound: int = 1):\n",
        "        assert points.shape[0] == weights.shape[0]\n",
        "\n",
        "        self.__points = points.cpu()\n",
        "        self.__weights = weights.cpu()\n",
        "        self.__activation = activation_function\n",
        "        self.__beta = upper_bound\n",
        "        self.__sensitivity = None\n",
        "        self.indices = None\n",
        "\n",
        "    @property\n",
        "    def sensitivity(self):\n",
        "        if self.__sensitivity is None:\n",
        "            points_norm = self.__points.norm(dim=1)\n",
        "            assert points_norm.shape[0] == self.__points.shape[0]\n",
        "            weights = torch.abs(self.__weights).max(dim=1)[0]  # max returns (values, indices)\n",
        "            assert weights.shape[0] == self.__points.shape[0]\n",
        "            #print(len(self.__beta))\n",
        "            #print(points_norm.shape)\n",
        "            #print(weights.shape)\n",
        "            self.__sensitivity = weights * torch.abs(self.__activation(self.__beta * points_norm))\n",
        "            self.__sensitivity /= self.__sensitivity.sum()\n",
        "\n",
        "        return self.__sensitivity\n",
        "\n",
        "    def compute_coreset(self, coreset_size):\n",
        "        assert coreset_size <= self.__points.shape[0]\n",
        "        prob = self.sensitivity.cpu().detach().numpy()\n",
        "\n",
        "        indices = set()\n",
        "        idxs = []\n",
        "\n",
        "        cnt = 0\n",
        "        while len(indices) < coreset_size:\n",
        "            i = np.random.choice(a=self.__points.shape[0], size=1, p=prob).tolist()[0]\n",
        "            idxs.append(i)\n",
        "            indices.add(i)\n",
        "            cnt += 1\n",
        "\n",
        "        hist = np.histogram(idxs, bins=range(self.__points.shape[0] + 1))[0].flatten()\n",
        "        idxs = np.nonzero(hist)[0]\n",
        "        self.indices = idxs\n",
        "        coreset = self.__points[idxs, :]\n",
        "\n",
        "        weights = (self.__weights[idxs].t() * torch.tensor(hist[idxs]).float()).t()\n",
        "        weights = (weights.t() / (torch.tensor(prob[idxs]) * cnt)).t()\n",
        "\n",
        "        return coreset, weights"
      ],
      "execution_count": null,
      "outputs": []
    },
    {
      "cell_type": "code",
      "metadata": {
        "id": "lSnI4oJL6ZlC"
      },
      "source": [
        "def compress_fc_layer(layer1: Tuple[torch.Tensor, torch.Tensor],\n",
        "                      layer2: Tuple[torch.Tensor, torch.Tensor],\n",
        "                      compressed_size,\n",
        "                      activation: Callable,\n",
        "                      upper_bound,\n",
        "                      device,\n",
        "                      compression_type):\n",
        "    num_neurons = layer1[1].shape[0]\n",
        "    if compression_type == \"Coreset\":\n",
        "        points = np.concatenate(\n",
        "            (layer1[0].cpu().detach().numpy(), layer1[1].view(num_neurons, 1).cpu().detach().numpy()),\n",
        "            axis=1)\n",
        "        points = torch.tensor(points)\n",
        "        weights = layer2[0].t()\n",
        "        coreset = Coreset(points=points, weights=weights, activation_function=activation, upper_bound=upper_bound)\n",
        "        points, weights = coreset.compute_coreset(compressed_size)\n",
        "        indices = coreset.indices\n",
        "        layer1 = (points[:, :-1].to(device), points[:, 1].to(device))\n",
        "        weights = weights.t()\n",
        "        layer2 = (weights.to(device), layer2[1].to(device))\n",
        "    elif compression_type == \"Uniform\":\n",
        "        indices = np.random.choice(num_neurons, size=compressed_size, replace=False)\n",
        "        layer1 = (layer1[0][indices, :], layer1[1][indices])\n",
        "        layer2 = (layer2[0][:, indices], layer2[1])\n",
        "    elif compression_type == \"Top-K\":\n",
        "        indices = torch.topk(torch.norm(layer1[0], dim=1), k=compressed_size)[1]\n",
        "        layer1 = (layer1[0][indices, :], layer1[1][indices])\n",
        "        layer2 = (layer2[0][:, indices], layer2[1])\n",
        "    else:\n",
        "        sys.exit(\"There is not a compression type: {}\".format(compression_type))\n",
        "\n",
        "    return layer1, layer2, indices"
      ],
      "execution_count": null,
      "outputs": []
    },
    {
      "cell_type": "code",
      "metadata": {
        "id": "7H1Ly3k36odW"
      },
      "source": [
        "def relu(X):\n",
        "   return np.maximum(0,X)"
      ],
      "execution_count": null,
      "outputs": []
    },
    {
      "cell_type": "code",
      "metadata": {
        "colab": {
          "base_uri": "https://localhost:8080/"
        },
        "id": "fxwVBIal61dV",
        "outputId": "89b5eb82-4d5a-4489-82cc-2905f9b77dfa"
      },
      "source": [
        "relu(torch.tensor([4,3,-2]))"
      ],
      "execution_count": null,
      "outputs": [
        {
          "output_type": "execute_result",
          "data": {
            "text/plain": [
              "tensor([4, 3, 0])"
            ]
          },
          "metadata": {},
          "execution_count": 277
        }
      ]
    },
    {
      "cell_type": "code",
      "metadata": {
        "id": "siIKxdyfekPk"
      },
      "source": [
        "layer1 = tuple(model.fc1.parameters())\n",
        "layer2 = tuple(model.fc2.parameters())"
      ],
      "execution_count": null,
      "outputs": []
    },
    {
      "cell_type": "code",
      "metadata": {
        "id": "SGcWWK_5lePt"
      },
      "source": [
        "from torch import linalg as LA\n",
        "\n",
        "data_norm = []\n",
        "\n",
        "for (x, y) in list(trainset):\n",
        "    data_norm.append(LA.vector_norm(x).int())"
      ],
      "execution_count": null,
      "outputs": []
    },
    {
      "cell_type": "code",
      "metadata": {
        "colab": {
          "base_uri": "https://localhost:8080/"
        },
        "id": "TJmC9xuInWFk",
        "outputId": "00c259b6-7d36-4c73-855d-bce3eda80ad2"
      },
      "source": [
        "#len(data_norm)\n",
        "#data_norm\n",
        "#type(data_norm)\n",
        "max(data_norm)"
      ],
      "execution_count": null,
      "outputs": [
        {
          "output_type": "execute_result",
          "data": {
            "text/plain": [
              "tensor(48, dtype=torch.int32)"
            ]
          },
          "metadata": {},
          "execution_count": 247
        }
      ]
    },
    {
      "cell_type": "code",
      "metadata": {
        "id": "n1gu-A7O65ac"
      },
      "source": [
        "num_core_n = 1000\n",
        "beta = 1\n",
        "\n",
        "l1, l2, ind = compress_fc_layer(layer1, layer2, num_core_n , relu, beta , \"cpu\", \"Coreset\")"
      ],
      "execution_count": null,
      "outputs": []
    },
    {
      "cell_type": "code",
      "metadata": {
        "colab": {
          "base_uri": "https://localhost:8080/"
        },
        "id": "wRWiSuxMpmwj",
        "outputId": "28fc5377-3f6b-458b-9979-35b0e05a2d26"
      },
      "source": [
        "[len(a) for a in l2]"
      ],
      "execution_count": null,
      "outputs": [
        {
          "output_type": "execute_result",
          "data": {
            "text/plain": [
              "[5000, 5000]"
            ]
          },
          "metadata": {},
          "execution_count": 280
        }
      ]
    },
    {
      "cell_type": "code",
      "metadata": {
        "id": "mcTlchtjjuUA"
      },
      "source": [
        "model.fc1 = nn.Linear(l1[0].shape[1], l1[0].shape[0])\n",
        "model.fc2 = nn.Linear(l2[0].shape[1], l2[0].shape[0])\n",
        "\n",
        "with torch.no_grad():\n",
        "    model.fc1.weight.copy_(l1[0])\n",
        "    model.fc1.bias.copy_(l1[1])\n",
        "    model.fc2.weight.copy_(l2[0])\n",
        "    model.fc2.bias.copy_(l2[1])"
      ],
      "execution_count": null,
      "outputs": []
    },
    {
      "cell_type": "code",
      "metadata": {
        "colab": {
          "base_uri": "https://localhost:8080/"
        },
        "id": "pGmb9y3nW_WC",
        "outputId": "d500aaab-adfe-4923-b266-9e7d6f7dca49"
      },
      "source": [
        "print(model)"
      ],
      "execution_count": null,
      "outputs": [
        {
          "output_type": "stream",
          "name": "stdout",
          "text": [
            "Net(\n",
            "  (fc1): Linear(in_features=784, out_features=1000, bias=True)\n",
            "  (fc2): Linear(in_features=1000, out_features=5000, bias=True)\n",
            "  (fc3): Linear(in_features=5000, out_features=10, bias=True)\n",
            ")\n"
          ]
        }
      ]
    },
    {
      "cell_type": "code",
      "metadata": {
        "colab": {
          "base_uri": "https://localhost:8080/"
        },
        "id": "8JvnfSo6XCJH",
        "outputId": "332bccc9-b585-4c90-8a4f-aac775ae2dac"
      },
      "source": [
        "train(5, 0.01)"
      ],
      "execution_count": null,
      "outputs": [
        {
          "output_type": "stream",
          "name": "stdout",
          "text": [
            "1 0.9681\n",
            "2 0.9688\n",
            "3 0.9796\n",
            "4 0.9809\n",
            "5 0.9818\n"
          ]
        }
      ]
    },
    {
      "cell_type": "code",
      "metadata": {
        "colab": {
          "base_uri": "https://localhost:8080/"
        },
        "id": "fj5v18QHkP-5",
        "outputId": "9d39d734-dd56-4c84-e13b-54307d108828"
      },
      "source": [
        "print('Epoch', 1 , 'Neurons', num_core_n, num_n2)\n",
        "print('Test acc', validate(testloader, model))"
      ],
      "execution_count": null,
      "outputs": [
        {
          "output_type": "stream",
          "name": "stdout",
          "text": [
            "Epoch 1 Neurons 1000 5000\n",
            "Test acc 0.9818\n"
          ]
        }
      ]
    },
    {
      "cell_type": "code",
      "metadata": {
        "id": "RViojksVkoS-",
        "colab": {
          "base_uri": "https://localhost:8080/"
        },
        "outputId": "d386c3fb-adbf-47d3-8a9d-df13237a69a4"
      },
      "source": [
        "print(model)"
      ],
      "execution_count": null,
      "outputs": [
        {
          "output_type": "stream",
          "name": "stdout",
          "text": [
            "Net(\n",
            "  (fc1): Linear(in_features=784, out_features=1000, bias=True)\n",
            "  (fc2): Linear(in_features=1000, out_features=5000, bias=True)\n",
            "  (fc3): Linear(in_features=5000, out_features=10, bias=True)\n",
            ")\n"
          ]
        }
      ]
    },
    {
      "cell_type": "markdown",
      "metadata": {
        "id": "wYloXAG6Pyoq"
      },
      "source": [
        "#Layer 2 pruning as per layer 3"
      ]
    },
    {
      "cell_type": "code",
      "metadata": {
        "id": "UMO5M-noP1t8"
      },
      "source": [
        "layer2 = tuple(model.fc2.parameters())\n",
        "layer3 = tuple(model.fc3.parameters())"
      ],
      "execution_count": null,
      "outputs": []
    },
    {
      "cell_type": "code",
      "metadata": {
        "id": "FDExg_S1P5Bc"
      },
      "source": [
        "num_core_n = 500\n",
        "beta = 1\n",
        "\n",
        "l1, l2, ind = compress_fc_layer(layer2, layer3, num_core_n , relu, beta , \"cpu\", \"Coreset\")"
      ],
      "execution_count": null,
      "outputs": []
    },
    {
      "cell_type": "code",
      "metadata": {
        "colab": {
          "base_uri": "https://localhost:8080/"
        },
        "id": "rfq1kWCKQCZw",
        "outputId": "d0c3713d-1a1b-488c-da17-ff2965bfc117"
      },
      "source": [
        "[len(a) for a in l1]"
      ],
      "execution_count": null,
      "outputs": [
        {
          "output_type": "execute_result",
          "data": {
            "text/plain": [
              "[500, 500]"
            ]
          },
          "metadata": {},
          "execution_count": 288
        }
      ]
    },
    {
      "cell_type": "code",
      "metadata": {
        "id": "5HZ6YaarQGHi"
      },
      "source": [
        "model.fc2 = nn.Linear(l1[0].shape[1], l1[0].shape[0])\n",
        "model.fc3 = nn.Linear(l2[0].shape[1], l2[0].shape[0])\n",
        "\n",
        "with torch.no_grad():\n",
        "    model.fc2.weight.copy_(l1[0])\n",
        "    model.fc2.bias.copy_(l1[1])\n",
        "    model.fc3.weight.copy_(l2[0])\n",
        "    model.fc3.bias.copy_(l2[1])"
      ],
      "execution_count": null,
      "outputs": []
    },
    {
      "cell_type": "code",
      "metadata": {
        "colab": {
          "base_uri": "https://localhost:8080/"
        },
        "id": "hGDshCiqYiLF",
        "outputId": "54a6a223-a635-4437-94e7-cf8c5da8d854"
      },
      "source": [
        "train(5, 0.01)"
      ],
      "execution_count": null,
      "outputs": [
        {
          "output_type": "stream",
          "name": "stdout",
          "text": [
            "1 0.9662\n",
            "2 0.9778\n",
            "3 0.9792\n",
            "4 0.9826\n",
            "5 0.9839\n"
          ]
        }
      ]
    },
    {
      "cell_type": "code",
      "metadata": {
        "colab": {
          "base_uri": "https://localhost:8080/"
        },
        "id": "k1uZ5b_8QYZ9",
        "outputId": "5ee4f5bb-d536-41af-d641-2158640cd3a2"
      },
      "source": [
        "print('Epoch', 1 , 'Neurons', 1000, 500)\n",
        "print('Test acc', validate(testloader, model))"
      ],
      "execution_count": null,
      "outputs": [
        {
          "output_type": "stream",
          "name": "stdout",
          "text": [
            "Epoch 1 Neurons 1000 500\n",
            "Test acc 0.9839\n"
          ]
        }
      ]
    },
    {
      "cell_type": "code",
      "metadata": {
        "colab": {
          "base_uri": "https://localhost:8080/"
        },
        "id": "q4PKqDUUQdHp",
        "outputId": "bd75abd1-0f86-44f9-8834-86a07027060a"
      },
      "source": [
        "print(model)"
      ],
      "execution_count": null,
      "outputs": [
        {
          "output_type": "stream",
          "name": "stdout",
          "text": [
            "Net(\n",
            "  (fc1): Linear(in_features=784, out_features=1000, bias=True)\n",
            "  (fc2): Linear(in_features=1000, out_features=500, bias=True)\n",
            "  (fc3): Linear(in_features=500, out_features=10, bias=True)\n",
            ")\n"
          ]
        }
      ]
    },
    {
      "cell_type": "code",
      "metadata": {
        "id": "DjRa0KGaQlgc"
      },
      "source": [
        ""
      ],
      "execution_count": null,
      "outputs": []
    }
  ]
}