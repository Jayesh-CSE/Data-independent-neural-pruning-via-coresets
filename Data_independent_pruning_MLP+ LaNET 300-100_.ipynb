{
  "nbformat": 4,
  "nbformat_minor": 0,
  "metadata": {
    "colab": {
      "name": "Data independent pruning - MLP .ipynb",
      "provenance": [],
      "collapsed_sections": [],
      "mount_file_id": "1ujlRb2uzEd6PS3vHMKwpOwzKYiYRpTuk",
      "authorship_tag": "ABX9TyPb3+Qopk3/NVPWT7KpwnvA",
      "include_colab_link": true
    },
    "kernelspec": {
      "display_name": "Python 3",
      "name": "python3"
    },
    "language_info": {
      "name": "python"
    }
  },
  "cells": [
    {
      "cell_type": "markdown",
      "metadata": {
        "id": "view-in-github",
        "colab_type": "text"
      },
      "source": [
        "<a href=\"https://colab.research.google.com/github/Jayesh-CSE/Data-independent-neural-pruning-via-coresets/blob/main/Data_independent_pruning_MLP%2B%20LaNET%20300-100_.ipynb\" target=\"_parent\"><img src=\"https://colab.research.google.com/assets/colab-badge.svg\" alt=\"Open In Colab\"/></a>"
      ]
    },
    {
      "cell_type": "markdown",
      "metadata": {
        "id": "Gk8O44-HfkR1"
      },
      "source": [
        "#Model define and Train and Prepare coreset and prune first hidden layer"
      ]
    },
    {
      "cell_type": "code",
      "metadata": {
        "id": "0GorivGdzbco"
      },
      "source": [
        "import torch\n",
        "import torchvision\n",
        "import torchvision.transforms as transforms\n",
        "import torch.nn as nn\n",
        "import torch.nn.functional as F\n",
        "import torch.optim as optim\n",
        "import numpy as np\n",
        "# import torch.nn.utils.prune as prune\n",
        "from typing import Callable, Tuple, Union\n",
        "import sys\n",
        "from matplotlib import pyplot as plt"
      ],
      "execution_count": 1,
      "outputs": []
    },
    {
      "cell_type": "code",
      "metadata": {
        "id": "o2TMW4iP0pfW"
      },
      "source": [
        "#cd /content/drive/MyDrive/Data Independent Pruning Coreset"
      ],
      "execution_count": 2,
      "outputs": []
    },
    {
      "cell_type": "code",
      "metadata": {
        "id": "avtxpJNa0Fpy",
        "colab": {
          "base_uri": "https://localhost:8080/"
        },
        "outputId": "4701d1e3-1d7e-4722-a67b-f9b6dd320285"
      },
      "source": [
        "batch_size = 128\n",
        "\n",
        "transform = transforms.Compose(\n",
        "    [transforms.ToTensor(),\n",
        "     transforms.Normalize((0.13066), (0.30810))])\n",
        "\n",
        "trainset = torchvision.datasets.MNIST(root='/content/drive/MyDrive/Data Independent Pruning Coreset/data', train=True,\n",
        "                                        download=True, transform=transform)\n",
        "trainloader = torch.utils.data.DataLoader(trainset, batch_size=batch_size,\n",
        "                                          shuffle=False, num_workers=2)\n",
        "\n",
        "testset = torchvision.datasets.MNIST(root='/content/drive/MyDrive/Data Independent Pruning Coreset/data', train=False,\n",
        "                                       download=True, transform=transform)\n",
        "testloader = torch.utils.data.DataLoader(testset, batch_size=batch_size,\n",
        "                                         shuffle=False, num_workers=2)\n",
        "\n",
        "classes = [str(i) for i in range(10)]"
      ],
      "execution_count": 3,
      "outputs": [
        {
          "output_type": "stream",
          "name": "stderr",
          "text": [
            "/usr/local/lib/python3.7/dist-packages/torchvision/datasets/mnist.py:498: UserWarning: The given NumPy array is not writeable, and PyTorch does not support non-writeable tensors. This means you can write to the underlying (supposedly non-writeable) NumPy array using the tensor. You may want to copy the array to protect its data or make it writeable before converting it to a tensor. This type of warning will be suppressed for the rest of this program. (Triggered internally at  /pytorch/torch/csrc/utils/tensor_numpy.cpp:180.)\n",
            "  return torch.from_numpy(parsed.astype(m[2], copy=False)).view(*s)\n"
          ]
        }
      ]
    },
    {
      "cell_type": "code",
      "metadata": {
        "id": "OrPnrep10i9f"
      },
      "source": [
        "class Net(nn.Module):\n",
        "    def __init__(self, in_size=28*28, num_n1=10000, num_n2 = 5000, cache_activation=False):\n",
        "        super().__init__()\n",
        "        self.fc1 = nn.Linear(in_size, num_n1)\n",
        "        self.fc2 = nn.Linear(num_n1, num_n2)\n",
        "        self.fc3 = nn.Linear(num_n2, 10)\n",
        "        self.cache_activation = cache_activation\n",
        "\n",
        "    def forward(self, x):\n",
        "        x0 = x.view(x.size(0), -1)\n",
        "        x1 = F.relu(self.fc1(x0))\n",
        "        x2 = F.relu(self.fc2(x1))\n",
        "        x3 = self.fc3(x2)\n",
        "        \n",
        "        if self.cache_activation:\n",
        "            return x1, x2, x3\n",
        "        else:\n",
        "            return x3"
      ],
      "execution_count": 4,
      "outputs": []
    },
    {
      "cell_type": "code",
      "metadata": {
        "id": "IQnOlYK50yiO"
      },
      "source": [
        "def train(epochs, lr=0.01):\n",
        "    \n",
        "    #criterion = nn.CrossEntropyLoss().cuda()\n",
        "    criterion = nn.CrossEntropyLoss()\n",
        "    optimizer = optim.SGD(model.parameters(), lr=lr, momentum=0.9)\n",
        "    \n",
        "    for ep in range(epochs):\n",
        "        for (x, y) in list(trainloader):\n",
        "            \n",
        "            optimizer.zero_grad()\n",
        "           #output = model(x.cuda(0, non_blocking=True))\n",
        "            output = model(x)\n",
        "            if model.cache_activation:\n",
        "                output = output[-1]\n",
        "            #ls = criterion(output, y.cuda(0, non_blocking=True))\n",
        "            ls = criterion(output, y)\n",
        "            ls.backward()\n",
        "            optimizer.step()\n",
        "            \n",
        "        print(ep+1, validate(testloader, model))"
      ],
      "execution_count": 5,
      "outputs": []
    },
    {
      "cell_type": "code",
      "metadata": {
        "id": "9hf4RLIZ01NZ"
      },
      "source": [
        "def validate(loader, model):\n",
        "    \n",
        "    model.eval()\n",
        "    acc = 0\n",
        "    n = 0\n",
        "    \n",
        "    with torch.no_grad():\n",
        "        for i, (inp, target) in enumerate(loader):\n",
        "            #output = model(inp.cuda(non_blocking=True))\n",
        "            output = model(inp)\n",
        "            if model.cache_activation:\n",
        "                output = output[-1]\n",
        "            _, pred = torch.max(output, 1)\n",
        "            #acc += (pred == target.cuda(non_blocking=True)).sum().item()\n",
        "            acc += (pred == target).sum().item()\n",
        "            n += len(target)\n",
        "            \n",
        "    acc = acc/n\n",
        "    return acc"
      ],
      "execution_count": 6,
      "outputs": []
    },
    {
      "cell_type": "code",
      "metadata": {
        "colab": {
          "base_uri": "https://localhost:8080/"
        },
        "id": "e6hIznwF035Y",
        "outputId": "04b40f6d-c493-4216-8d74-7da002301932"
      },
      "source": [
        "num_n1 = int(1e4)\n",
        "num_n2 = int(5e3)\n",
        "model = Net(28*28, num_n1, num_n2, True)\n",
        "#train(10, 0.01)\n",
        "\n",
        "# torch.cuda.set_device()\n",
        "# torch.save(model.state_dict(), '/content/drive/MyDrive/Data Independent Pruning Coreset/v_fc_{}_{}'.format(num_n1, num_n2))\n",
        "model.load_state_dict(torch.load('/content/drive/MyDrive/Data Independent Pruning Coreset/v_fc_{}_{}'.format(num_n1, num_n2)))\n",
        "#model = model.cuda()"
      ],
      "execution_count": 7,
      "outputs": [
        {
          "output_type": "execute_result",
          "data": {
            "text/plain": [
              "<All keys matched successfully>"
            ]
          },
          "metadata": {},
          "execution_count": 7
        }
      ]
    },
    {
      "cell_type": "code",
      "metadata": {
        "id": "zHQMtRm54hUS"
      },
      "source": [
        "torch.save(model.state_dict(), '/content/drive/MyDrive/Data Independent Pruning Coreset/v_fc_{}_{}'.format(num_n1, num_n2))"
      ],
      "execution_count": 8,
      "outputs": []
    },
    {
      "cell_type": "code",
      "metadata": {
        "colab": {
          "base_uri": "https://localhost:8080/"
        },
        "id": "dtzUN_wH06Wf",
        "outputId": "0233748c-43c1-4da4-dad9-cb7b4772443e"
      },
      "source": [
        "print('Epoch', 0, 'Neurons', num_n1, num_n2)\n",
        "print('Test acc', validate(testloader, model))"
      ],
      "execution_count": 9,
      "outputs": [
        {
          "output_type": "stream",
          "name": "stdout",
          "text": [
            "Epoch 0 Neurons 10000 5000\n",
            "Test acc 0.982\n"
          ]
        }
      ]
    },
    {
      "cell_type": "code",
      "metadata": {
        "colab": {
          "base_uri": "https://localhost:8080/"
        },
        "id": "7Jm8XD7H09UY",
        "outputId": "fceae10a-0f2f-47d8-d0ac-94819be2ba67"
      },
      "source": [
        "print(model)"
      ],
      "execution_count": 10,
      "outputs": [
        {
          "output_type": "stream",
          "name": "stdout",
          "text": [
            "Net(\n",
            "  (fc1): Linear(in_features=784, out_features=10000, bias=True)\n",
            "  (fc2): Linear(in_features=10000, out_features=5000, bias=True)\n",
            "  (fc3): Linear(in_features=5000, out_features=10, bias=True)\n",
            ")\n"
          ]
        }
      ]
    },
    {
      "cell_type": "code",
      "metadata": {
        "id": "a9ACXSiE51WM"
      },
      "source": [
        "class Coreset:\n",
        "    def __init__(self, points, weights, activation_function: Callable, upper_bound: int = 1):\n",
        "        assert points.shape[0] == weights.shape[0]\n",
        "\n",
        "        self.__points = points.cpu()\n",
        "        self.__weights = weights.cpu()\n",
        "        self.__activation = activation_function\n",
        "        self.__beta = upper_bound\n",
        "        self.__sensitivity = None\n",
        "        self.indices = None\n",
        "\n",
        "    @property\n",
        "    def sensitivity(self):\n",
        "        if self.__sensitivity is None:\n",
        "            points_norm = self.__points.norm(dim=1)\n",
        "            assert points_norm.shape[0] == self.__points.shape[0]\n",
        "            weights = torch.abs(self.__weights).max(dim=1)[0]  # max returns (values, indices)\n",
        "            assert weights.shape[0] == self.__points.shape[0]\n",
        "            #print(len(self.__beta))\n",
        "            #print(points_norm.shape)\n",
        "            #print(weights.shape)\n",
        "            self.__sensitivity = weights * torch.abs(self.__activation(self.__beta * points_norm))\n",
        "            self.__sensitivity /= self.__sensitivity.sum()\n",
        "\n",
        "        return self.__sensitivity\n",
        "\n",
        "    def compute_coreset(self, coreset_size):\n",
        "        assert coreset_size <= self.__points.shape[0]\n",
        "        prob = self.sensitivity.cpu().detach().numpy()\n",
        "\n",
        "        indices = set()\n",
        "        idxs = []\n",
        "\n",
        "        cnt = 0\n",
        "        while len(indices) < coreset_size:\n",
        "            i = np.random.choice(a=self.__points.shape[0], size=1, p=prob).tolist()[0]\n",
        "            idxs.append(i)\n",
        "            indices.add(i)\n",
        "            cnt += 1\n",
        "\n",
        "        hist = np.histogram(idxs, bins=range(self.__points.shape[0] + 1))[0].flatten()\n",
        "        idxs = np.nonzero(hist)[0]\n",
        "        self.indices = idxs\n",
        "        coreset = self.__points[idxs, :]\n",
        "\n",
        "        weights = (self.__weights[idxs].t() * torch.tensor(hist[idxs]).float()).t()\n",
        "        weights = (weights.t() / (torch.tensor(prob[idxs]) * cnt)).t()\n",
        "\n",
        "        return coreset, weights"
      ],
      "execution_count": 11,
      "outputs": []
    },
    {
      "cell_type": "code",
      "metadata": {
        "id": "lSnI4oJL6ZlC"
      },
      "source": [
        "def compress_fc_layer(layer1: Tuple[torch.Tensor, torch.Tensor],\n",
        "                      layer2: Tuple[torch.Tensor, torch.Tensor],\n",
        "                      compressed_size,\n",
        "                      activation: Callable,\n",
        "                      upper_bound,\n",
        "                      device,\n",
        "                      compression_type):\n",
        "    num_neurons = layer1[1].shape[0]\n",
        "    if compression_type == \"Coreset\":\n",
        "        points = np.concatenate(\n",
        "            (layer1[0].cpu().detach().numpy(), layer1[1].view(num_neurons, 1).cpu().detach().numpy()),\n",
        "            axis=1)\n",
        "        points = torch.tensor(points)\n",
        "        weights = layer2[0].t()\n",
        "        coreset = Coreset(points=points, weights=weights, activation_function=activation, upper_bound=upper_bound)\n",
        "        points, weights = coreset.compute_coreset(compressed_size)\n",
        "        indices = coreset.indices\n",
        "        layer1 = (points[:, :-1].to(device), points[:, 1].to(device))\n",
        "        weights = weights.t()\n",
        "        layer2 = (weights.to(device), layer2[1].to(device))\n",
        "    elif compression_type == \"Uniform\":\n",
        "        indices = np.random.choice(num_neurons, size=compressed_size, replace=False)\n",
        "        layer1 = (layer1[0][indices, :], layer1[1][indices])\n",
        "        layer2 = (layer2[0][:, indices], layer2[1])\n",
        "    elif compression_type == \"Top-K\":\n",
        "        indices = torch.topk(torch.norm(layer1[0], dim=1), k=compressed_size)[1]\n",
        "        layer1 = (layer1[0][indices, :], layer1[1][indices])\n",
        "        layer2 = (layer2[0][:, indices], layer2[1])\n",
        "    else:\n",
        "        sys.exit(\"There is not a compression type: {}\".format(compression_type))\n",
        "\n",
        "    return layer1, layer2, indices"
      ],
      "execution_count": 12,
      "outputs": []
    },
    {
      "cell_type": "code",
      "metadata": {
        "id": "7H1Ly3k36odW"
      },
      "source": [
        "def relu(X):\n",
        "   return np.maximum(0,X)"
      ],
      "execution_count": 13,
      "outputs": []
    },
    {
      "cell_type": "code",
      "metadata": {
        "colab": {
          "base_uri": "https://localhost:8080/"
        },
        "id": "fxwVBIal61dV",
        "outputId": "1226315f-23c4-415c-c995-ec8d998d0c34"
      },
      "source": [
        "relu(torch.tensor([4,3,-2]))"
      ],
      "execution_count": 14,
      "outputs": [
        {
          "output_type": "execute_result",
          "data": {
            "text/plain": [
              "tensor([4, 3, 0])"
            ]
          },
          "metadata": {},
          "execution_count": 14
        }
      ]
    },
    {
      "cell_type": "code",
      "metadata": {
        "id": "siIKxdyfekPk"
      },
      "source": [
        "layer1 = tuple(model.fc1.parameters())\n",
        "layer2 = tuple(model.fc2.parameters())"
      ],
      "execution_count": 15,
      "outputs": []
    },
    {
      "cell_type": "code",
      "metadata": {
        "id": "SGcWWK_5lePt"
      },
      "source": [
        "from torch import linalg as LA\n",
        "\n",
        "data_norm = []\n",
        "\n",
        "for (x, y) in list(trainset):\n",
        "    data_norm.append(LA.vector_norm(x).int())"
      ],
      "execution_count": 16,
      "outputs": []
    },
    {
      "cell_type": "code",
      "metadata": {
        "colab": {
          "base_uri": "https://localhost:8080/"
        },
        "id": "TJmC9xuInWFk",
        "outputId": "e0433e27-572b-4218-b191-332adde055d3"
      },
      "source": [
        "#len(data_norm)\n",
        "#data_norm\n",
        "#type(data_norm)\n",
        "max(data_norm)"
      ],
      "execution_count": 17,
      "outputs": [
        {
          "output_type": "execute_result",
          "data": {
            "text/plain": [
              "tensor(48, dtype=torch.int32)"
            ]
          },
          "metadata": {},
          "execution_count": 17
        }
      ]
    },
    {
      "cell_type": "code",
      "metadata": {
        "id": "n1gu-A7O65ac"
      },
      "source": [
        "num_core_n = 1000\n",
        "beta = 1\n",
        "\n",
        "l1, l2, ind = compress_fc_layer(layer1, layer2, num_core_n , relu, beta , \"cpu\", \"Coreset\")"
      ],
      "execution_count": 18,
      "outputs": []
    },
    {
      "cell_type": "code",
      "metadata": {
        "colab": {
          "base_uri": "https://localhost:8080/"
        },
        "id": "wRWiSuxMpmwj",
        "outputId": "0bef9e55-d87a-40dc-c77a-30b62424a23a"
      },
      "source": [
        "[len(a) for a in l2]"
      ],
      "execution_count": 19,
      "outputs": [
        {
          "output_type": "execute_result",
          "data": {
            "text/plain": [
              "[5000, 5000]"
            ]
          },
          "metadata": {},
          "execution_count": 19
        }
      ]
    },
    {
      "cell_type": "code",
      "metadata": {
        "id": "mcTlchtjjuUA"
      },
      "source": [
        "model.fc1 = nn.Linear(l1[0].shape[1], l1[0].shape[0])\n",
        "model.fc2 = nn.Linear(l2[0].shape[1], l2[0].shape[0])\n",
        "\n",
        "with torch.no_grad():\n",
        "    model.fc1.weight.copy_(l1[0])\n",
        "    model.fc1.bias.copy_(l1[1])\n",
        "    model.fc2.weight.copy_(l2[0])\n",
        "    model.fc2.bias.copy_(l2[1])"
      ],
      "execution_count": 20,
      "outputs": []
    },
    {
      "cell_type": "code",
      "metadata": {
        "colab": {
          "base_uri": "https://localhost:8080/"
        },
        "id": "pGmb9y3nW_WC",
        "outputId": "21676eeb-befd-47d5-a885-bfba78b00c01"
      },
      "source": [
        "print(model)"
      ],
      "execution_count": 21,
      "outputs": [
        {
          "output_type": "stream",
          "name": "stdout",
          "text": [
            "Net(\n",
            "  (fc1): Linear(in_features=784, out_features=1000, bias=True)\n",
            "  (fc2): Linear(in_features=1000, out_features=5000, bias=True)\n",
            "  (fc3): Linear(in_features=5000, out_features=10, bias=True)\n",
            ")\n"
          ]
        }
      ]
    },
    {
      "cell_type": "code",
      "metadata": {
        "id": "8JvnfSo6XCJH"
      },
      "source": [
        "train(5, 0.01)"
      ],
      "execution_count": null,
      "outputs": []
    },
    {
      "cell_type": "code",
      "metadata": {
        "colab": {
          "base_uri": "https://localhost:8080/"
        },
        "id": "fj5v18QHkP-5",
        "outputId": "9d39d734-dd56-4c84-e13b-54307d108828"
      },
      "source": [
        "print('Epoch', 1 , 'Neurons', num_core_n, num_n2)\n",
        "print('Test acc', validate(testloader, model))"
      ],
      "execution_count": null,
      "outputs": [
        {
          "output_type": "stream",
          "name": "stdout",
          "text": [
            "Epoch 1 Neurons 1000 5000\n",
            "Test acc 0.9818\n"
          ]
        }
      ]
    },
    {
      "cell_type": "code",
      "metadata": {
        "id": "RViojksVkoS-",
        "colab": {
          "base_uri": "https://localhost:8080/"
        },
        "outputId": "d386c3fb-adbf-47d3-8a9d-df13237a69a4"
      },
      "source": [
        "print(model)"
      ],
      "execution_count": null,
      "outputs": [
        {
          "output_type": "stream",
          "name": "stdout",
          "text": [
            "Net(\n",
            "  (fc1): Linear(in_features=784, out_features=1000, bias=True)\n",
            "  (fc2): Linear(in_features=1000, out_features=5000, bias=True)\n",
            "  (fc3): Linear(in_features=5000, out_features=10, bias=True)\n",
            ")\n"
          ]
        }
      ]
    },
    {
      "cell_type": "markdown",
      "metadata": {
        "id": "wYloXAG6Pyoq"
      },
      "source": [
        "#Layer 2 pruning as per layer 3"
      ]
    },
    {
      "cell_type": "code",
      "metadata": {
        "id": "UMO5M-noP1t8"
      },
      "source": [
        "layer2 = tuple(model.fc2.parameters())\n",
        "layer3 = tuple(model.fc3.parameters())"
      ],
      "execution_count": null,
      "outputs": []
    },
    {
      "cell_type": "code",
      "metadata": {
        "id": "FDExg_S1P5Bc"
      },
      "source": [
        "num_core_n = 500\n",
        "beta = 1\n",
        "\n",
        "l1, l2, ind = compress_fc_layer(layer2, layer3, num_core_n , relu, beta , \"cpu\", \"Coreset\")"
      ],
      "execution_count": null,
      "outputs": []
    },
    {
      "cell_type": "code",
      "metadata": {
        "colab": {
          "base_uri": "https://localhost:8080/"
        },
        "id": "rfq1kWCKQCZw",
        "outputId": "d0c3713d-1a1b-488c-da17-ff2965bfc117"
      },
      "source": [
        "[len(a) for a in l1]"
      ],
      "execution_count": null,
      "outputs": [
        {
          "output_type": "execute_result",
          "data": {
            "text/plain": [
              "[500, 500]"
            ]
          },
          "metadata": {},
          "execution_count": 288
        }
      ]
    },
    {
      "cell_type": "code",
      "metadata": {
        "id": "5HZ6YaarQGHi"
      },
      "source": [
        "model.fc2 = nn.Linear(l1[0].shape[1], l1[0].shape[0])\n",
        "model.fc3 = nn.Linear(l2[0].shape[1], l2[0].shape[0])\n",
        "\n",
        "with torch.no_grad():\n",
        "    model.fc2.weight.copy_(l1[0])\n",
        "    model.fc2.bias.copy_(l1[1])\n",
        "    model.fc3.weight.copy_(l2[0])\n",
        "    model.fc3.bias.copy_(l2[1])"
      ],
      "execution_count": null,
      "outputs": []
    },
    {
      "cell_type": "code",
      "metadata": {
        "colab": {
          "base_uri": "https://localhost:8080/"
        },
        "id": "hGDshCiqYiLF",
        "outputId": "54a6a223-a635-4437-94e7-cf8c5da8d854"
      },
      "source": [
        "train(5, 0.01)"
      ],
      "execution_count": null,
      "outputs": [
        {
          "output_type": "stream",
          "name": "stdout",
          "text": [
            "1 0.9662\n",
            "2 0.9778\n",
            "3 0.9792\n",
            "4 0.9826\n",
            "5 0.9839\n"
          ]
        }
      ]
    },
    {
      "cell_type": "code",
      "metadata": {
        "colab": {
          "base_uri": "https://localhost:8080/"
        },
        "id": "k1uZ5b_8QYZ9",
        "outputId": "5ee4f5bb-d536-41af-d641-2158640cd3a2"
      },
      "source": [
        "print('Epoch', 1 , 'Neurons', 1000, 500)\n",
        "print('Test acc', validate(testloader, model))"
      ],
      "execution_count": null,
      "outputs": [
        {
          "output_type": "stream",
          "name": "stdout",
          "text": [
            "Epoch 1 Neurons 1000 500\n",
            "Test acc 0.9839\n"
          ]
        }
      ]
    },
    {
      "cell_type": "code",
      "metadata": {
        "colab": {
          "base_uri": "https://localhost:8080/"
        },
        "id": "q4PKqDUUQdHp",
        "outputId": "bd75abd1-0f86-44f9-8834-86a07027060a"
      },
      "source": [
        "print(model)"
      ],
      "execution_count": null,
      "outputs": [
        {
          "output_type": "stream",
          "name": "stdout",
          "text": [
            "Net(\n",
            "  (fc1): Linear(in_features=784, out_features=1000, bias=True)\n",
            "  (fc2): Linear(in_features=1000, out_features=500, bias=True)\n",
            "  (fc3): Linear(in_features=500, out_features=10, bias=True)\n",
            ")\n"
          ]
        }
      ]
    },
    {
      "cell_type": "code",
      "metadata": {
        "id": "DjRa0KGaQlgc"
      },
      "source": [
        ""
      ],
      "execution_count": null,
      "outputs": []
    },
    {
      "cell_type": "markdown",
      "metadata": {
        "id": "hHZoB-tMfw1X"
      },
      "source": [
        "#LeNET_300_100_MNIST_Model"
      ]
    },
    {
      "cell_type": "code",
      "metadata": {
        "id": "3dBmiXjUfz--"
      },
      "source": [
        "import torch\n",
        "import torchvision\n",
        "import torchvision.transforms as transforms\n",
        "import torch.nn as nn\n",
        "import torch.nn.functional as F\n",
        "import torch.optim as optim\n",
        "import numpy as np\n",
        "# import torch.nn.utils.prune as prune\n",
        "from typing import Callable, Tuple, Union\n",
        "import sys\n",
        "from matplotlib import pyplot as plt"
      ],
      "execution_count": 23,
      "outputs": []
    },
    {
      "cell_type": "code",
      "metadata": {
        "colab": {
          "base_uri": "https://localhost:8080/"
        },
        "id": "8oWmMsWBgZXO",
        "outputId": "3b2660ad-45df-491e-8d7e-1e4cf70d0fe9"
      },
      "source": [
        "cd /content/drive/MyDrive/Data Independent Pruning Coreset"
      ],
      "execution_count": 24,
      "outputs": [
        {
          "output_type": "stream",
          "name": "stdout",
          "text": [
            "/content/drive/MyDrive/Data Independent Pruning Coreset\n"
          ]
        }
      ]
    },
    {
      "cell_type": "code",
      "metadata": {
        "colab": {
          "base_uri": "https://localhost:8080/"
        },
        "id": "0AiI-4JFgBaG",
        "outputId": "5d328be9-89cf-4bca-8fa6-2fc32ac6b8ad"
      },
      "source": [
        "class Net(nn.Module):\n",
        "    def __init__(self):\n",
        "        super(Net, self).__init__()\n",
        "        self.conv1 = nn.Conv2d(in_channels=1, out_channels=6, kernel_size=5)\n",
        "        self.pool = nn.MaxPool2d(kernel_size=2, stride=2)\n",
        "        self.conv2 = nn.Conv2d(in_channels=6, out_channels=16, kernel_size=5)\n",
        "        self.pool = nn.MaxPool2d(kernel_size=2, stride=2)\n",
        "        self.fc1 = nn.Linear(16 * 4 * 4, 300)\n",
        "        self.fc2 = nn.Linear(300, 100)\n",
        "        self.fc3 = nn.Linear(100, 10)\n",
        "\n",
        "    def forward(self, x):\n",
        "        x = self.pool(F.relu(self.conv1(x)))\n",
        "        x = self.pool(F.relu(self.conv2(x)))\n",
        "        x = x.view(-1, 16 * 4 * 4)\n",
        "        x = F.relu(self.fc1(x))\n",
        "        x = F.relu(self.fc2(x))\n",
        "        x = self.fc3(x)\n",
        "        return F.log_softmax(x, dim=1)\n",
        "    \n",
        "net = Net()\n",
        "net.load_state_dict(torch.load(\"LeNET_300_100_MNIST_Model\"))"
      ],
      "execution_count": 25,
      "outputs": [
        {
          "output_type": "execute_result",
          "data": {
            "text/plain": [
              "<All keys matched successfully>"
            ]
          },
          "metadata": {},
          "execution_count": 25
        }
      ]
    },
    {
      "cell_type": "code",
      "metadata": {
        "colab": {
          "base_uri": "https://localhost:8080/"
        },
        "id": "yg3lhMSagcUn",
        "outputId": "3cf7e36f-2df6-49c2-875d-235733d47aae"
      },
      "source": [
        "from torchsummary import summary\n",
        "device=torch.device(\"cpu\")\n",
        "model=Net().to(device)\n",
        "summary(model, input_size=(1, 28, 28), device=\"cpu\")"
      ],
      "execution_count": 26,
      "outputs": [
        {
          "output_type": "stream",
          "name": "stdout",
          "text": [
            "----------------------------------------------------------------\n",
            "        Layer (type)               Output Shape         Param #\n",
            "================================================================\n",
            "            Conv2d-1            [-1, 6, 24, 24]             156\n",
            "         MaxPool2d-2            [-1, 6, 12, 12]               0\n",
            "            Conv2d-3             [-1, 16, 8, 8]           2,416\n",
            "         MaxPool2d-4             [-1, 16, 4, 4]               0\n",
            "            Linear-5                  [-1, 300]          77,100\n",
            "            Linear-6                  [-1, 100]          30,100\n",
            "            Linear-7                   [-1, 10]           1,010\n",
            "================================================================\n",
            "Total params: 110,782\n",
            "Trainable params: 110,782\n",
            "Non-trainable params: 0\n",
            "----------------------------------------------------------------\n",
            "Input size (MB): 0.00\n",
            "Forward/backward pass size (MB): 0.05\n",
            "Params size (MB): 0.42\n",
            "Estimated Total Size (MB): 0.47\n",
            "----------------------------------------------------------------\n"
          ]
        },
        {
          "output_type": "stream",
          "name": "stderr",
          "text": [
            "/usr/local/lib/python3.7/dist-packages/torch/nn/functional.py:718: UserWarning: Named tensors and all their associated APIs are an experimental feature and subject to change. Please do not use them for anything important until they are released as stable. (Triggered internally at  /pytorch/c10/core/TensorImpl.h:1156.)\n",
            "  return torch.max_pool2d(input, kernel_size, stride, padding, dilation, ceil_mode)\n"
          ]
        }
      ]
    },
    {
      "cell_type": "code",
      "metadata": {
        "id": "vw0L7MD7h-F-"
      },
      "source": [
        "batch_size = 128\n",
        "\n",
        "transform = transforms.Compose(\n",
        "    [transforms.ToTensor(),\n",
        "     transforms.Normalize((0.13066), (0.30810))])\n",
        "\n",
        "trainset = torchvision.datasets.MNIST(root='/content/drive/MyDrive/Data Independent Pruning Coreset/data', train=True,\n",
        "                                        download=True, transform=transform)\n",
        "trainloader = torch.utils.data.DataLoader(trainset, batch_size=batch_size,\n",
        "                                          shuffle=False, num_workers=2)\n",
        "\n",
        "testset = torchvision.datasets.MNIST(root='/content/drive/MyDrive/Data Independent Pruning Coreset/data', train=False,\n",
        "                                       download=True, transform=transform)\n",
        "testloader = torch.utils.data.DataLoader(testset, batch_size=batch_size,\n",
        "                                         shuffle=False, num_workers=2)\n",
        "\n",
        "classes = [str(i) for i in range(10)]"
      ],
      "execution_count": 27,
      "outputs": []
    },
    {
      "cell_type": "code",
      "metadata": {
        "colab": {
          "base_uri": "https://localhost:8080/"
        },
        "id": "mBZWHYZVixx4",
        "outputId": "68ddee7b-34bc-4216-dde8-b8e48c1fccb4"
      },
      "source": [
        "correct = 0\n",
        "total = 0\n",
        "with torch.no_grad():\n",
        "    for data in testloader:\n",
        "        images, labels = data\n",
        "        outputs = net(images)\n",
        "        _, predicted = torch.max(outputs.data, 1)\n",
        "        total += labels.size(0)\n",
        "        correct += (predicted == labels).sum().item()\n",
        "\n",
        "print('Accuracy of the network on the test images: %f %%' % (\n",
        "    100 * correct / total))\n",
        "\n",
        "old_accuracy=correct/total"
      ],
      "execution_count": 28,
      "outputs": [
        {
          "output_type": "stream",
          "name": "stdout",
          "text": [
            "Accuracy of the network on the test images: 89.750000 %\n"
          ]
        }
      ]
    },
    {
      "cell_type": "code",
      "metadata": {
        "colab": {
          "base_uri": "https://localhost:8080/"
        },
        "id": "DQ2mSLP4jtyW",
        "outputId": "d052c376-15c8-4536-8df1-f115811f22a7"
      },
      "source": [
        "(net.state_dict()[\"fc1.weight\"]).shape"
      ],
      "execution_count": 29,
      "outputs": [
        {
          "output_type": "execute_result",
          "data": {
            "text/plain": [
              "torch.Size([300, 256])"
            ]
          },
          "metadata": {},
          "execution_count": 29
        }
      ]
    },
    {
      "cell_type": "code",
      "metadata": {
        "colab": {
          "base_uri": "https://localhost:8080/"
        },
        "id": "1Gtwae1pjzVS",
        "outputId": "38773951-0a64-4e05-f7ee-f2c236c70c62"
      },
      "source": [
        "(net.state_dict()[\"fc2.weight\"]).shape"
      ],
      "execution_count": 30,
      "outputs": [
        {
          "output_type": "execute_result",
          "data": {
            "text/plain": [
              "torch.Size([100, 300])"
            ]
          },
          "metadata": {},
          "execution_count": 30
        }
      ]
    },
    {
      "cell_type": "code",
      "metadata": {
        "id": "FqbUTg34j1oV"
      },
      "source": [
        "class Coreset:\n",
        "    def __init__(self, points, weights, activation_function: Callable, upper_bound: int = 1):\n",
        "        assert points.shape[0] == weights.shape[0]\n",
        "\n",
        "        self.__points = points.cpu()\n",
        "        self.__weights = weights.cpu()\n",
        "        self.__activation = activation_function\n",
        "        self.__beta = upper_bound\n",
        "        self.__sensitivity = None\n",
        "        self.indices = None\n",
        "\n",
        "    @property\n",
        "    def sensitivity(self):\n",
        "        if self.__sensitivity is None:\n",
        "            points_norm = self.__points.norm(dim=1)\n",
        "            assert points_norm.shape[0] == self.__points.shape[0]\n",
        "            weights = torch.abs(self.__weights).max(dim=1)[0]  # max returns (values, indices)\n",
        "            assert weights.shape[0] == self.__points.shape[0]\n",
        "            #print(len(self.__beta))\n",
        "            #print(points_norm.shape)\n",
        "            #print(weights.shape)\n",
        "            self.__sensitivity = weights * torch.abs(self.__activation(self.__beta * points_norm))\n",
        "            self.__sensitivity /= self.__sensitivity.sum()\n",
        "\n",
        "        return self.__sensitivity\n",
        "\n",
        "    def compute_coreset(self, coreset_size):\n",
        "        assert coreset_size <= self.__points.shape[0]\n",
        "        prob = self.sensitivity.cpu().detach().numpy()\n",
        "\n",
        "        indices = set()\n",
        "        idxs = []\n",
        "\n",
        "        cnt = 0\n",
        "        while len(indices) < coreset_size:\n",
        "            i = np.random.choice(a=self.__points.shape[0], size=1, p=prob).tolist()[0]\n",
        "            idxs.append(i)\n",
        "            indices.add(i)\n",
        "            cnt += 1\n",
        "\n",
        "        hist = np.histogram(idxs, bins=range(self.__points.shape[0] + 1))[0].flatten()\n",
        "        idxs = np.nonzero(hist)[0]\n",
        "        self.indices = idxs\n",
        "        coreset = self.__points[idxs, :]\n",
        "\n",
        "        weights = (self.__weights[idxs].t() * torch.tensor(hist[idxs]).float()).t()\n",
        "        weights = (weights.t() / (torch.tensor(prob[idxs]) * cnt)).t()\n",
        "\n",
        "        return coreset, weights"
      ],
      "execution_count": 31,
      "outputs": []
    },
    {
      "cell_type": "code",
      "metadata": {
        "id": "JmsdiWykk10E"
      },
      "source": [
        "def compress_fc_layer(layer1: Tuple[torch.Tensor, torch.Tensor],\n",
        "                      layer2: Tuple[torch.Tensor, torch.Tensor],\n",
        "                      compressed_size,\n",
        "                      activation: Callable,\n",
        "                      upper_bound,\n",
        "                      device,\n",
        "                      compression_type):\n",
        "    num_neurons = layer1[1].shape[0]\n",
        "    if compression_type == \"Coreset\":\n",
        "        points = np.concatenate(\n",
        "            (layer1[0].cpu().detach().numpy(), layer1[1].view(num_neurons, 1).cpu().detach().numpy()),\n",
        "            axis=1)\n",
        "        points = torch.tensor(points)\n",
        "        weights = layer2[0].t()\n",
        "        coreset = Coreset(points=points, weights=weights, activation_function=activation, upper_bound=upper_bound)\n",
        "        points, weights = coreset.compute_coreset(compressed_size)\n",
        "        indices = coreset.indices\n",
        "        layer1 = (points[:, :-1].to(device), points[:, 1].to(device))\n",
        "        weights = weights.t()\n",
        "        layer2 = (weights.to(device), layer2[1].to(device))\n",
        "    elif compression_type == \"Uniform\":\n",
        "        indices = np.random.choice(num_neurons, size=compressed_size, replace=False)\n",
        "        layer1 = (layer1[0][indices, :], layer1[1][indices])\n",
        "        layer2 = (layer2[0][:, indices], layer2[1])\n",
        "    elif compression_type == \"Top-K\":\n",
        "        indices = torch.topk(torch.norm(layer1[0], dim=1), k=compressed_size)[1]\n",
        "        layer1 = (layer1[0][indices, :], layer1[1][indices])\n",
        "        layer2 = (layer2[0][:, indices], layer2[1])\n",
        "    else:\n",
        "        sys.exit(\"There is not a compression type: {}\".format(compression_type))\n",
        "\n",
        "    return layer1, layer2, indices"
      ],
      "execution_count": 32,
      "outputs": []
    },
    {
      "cell_type": "code",
      "metadata": {
        "id": "TWFoR4ZxlCf1"
      },
      "source": [
        "def relu(X):\n",
        "   return np.maximum(0,X)"
      ],
      "execution_count": 33,
      "outputs": []
    },
    {
      "cell_type": "code",
      "metadata": {
        "id": "VhVgXadtlKG3"
      },
      "source": [
        "layer1 = tuple(model.fc1.parameters())\n",
        "layer2 = tuple(model.fc2.parameters())"
      ],
      "execution_count": 34,
      "outputs": []
    },
    {
      "cell_type": "code",
      "metadata": {
        "colab": {
          "base_uri": "https://localhost:8080/"
        },
        "id": "b18ewS18ld3g",
        "outputId": "18a2cfe2-e63a-4443-ba83-369c9f2381d1"
      },
      "source": [
        "model.fc1.weight.shape"
      ],
      "execution_count": 35,
      "outputs": [
        {
          "output_type": "execute_result",
          "data": {
            "text/plain": [
              "torch.Size([300, 256])"
            ]
          },
          "metadata": {},
          "execution_count": 35
        }
      ]
    },
    {
      "cell_type": "code",
      "metadata": {
        "id": "4zA-vaPrljW-"
      },
      "source": [
        "num_core_n = 50\n",
        "beta = 1\n",
        "\n",
        "l1, l2, ind = compress_fc_layer(layer1, layer2, num_core_n , relu, beta , \"cpu\", \"Coreset\")"
      ],
      "execution_count": 36,
      "outputs": []
    },
    {
      "cell_type": "code",
      "metadata": {
        "colab": {
          "base_uri": "https://localhost:8080/"
        },
        "id": "E4nZvfbBmUAN",
        "outputId": "26a715bd-02fd-488e-ffab-f31263a0bb62"
      },
      "source": [
        "[len(a) for a in l1]"
      ],
      "execution_count": 37,
      "outputs": [
        {
          "output_type": "execute_result",
          "data": {
            "text/plain": [
              "[50, 50]"
            ]
          },
          "metadata": {},
          "execution_count": 37
        }
      ]
    },
    {
      "cell_type": "code",
      "metadata": {
        "id": "jcBPjh84mbMj"
      },
      "source": [
        "model.fc1 = nn.Linear(l1[0].shape[1], l1[0].shape[0])\n",
        "model.fc2 = nn.Linear(l2[0].shape[1], l2[0].shape[0])\n",
        "\n",
        "with torch.no_grad():\n",
        "    model.fc1.weight.copy_(l1[0])\n",
        "    model.fc1.bias.copy_(l1[1])\n",
        "    model.fc2.weight.copy_(l2[0])\n",
        "    model.fc2.bias.copy_(l2[1])"
      ],
      "execution_count": 38,
      "outputs": []
    },
    {
      "cell_type": "code",
      "metadata": {
        "colab": {
          "base_uri": "https://localhost:8080/"
        },
        "id": "yFtQUIJ9mtWF",
        "outputId": "c4f7e9e6-5ea4-40dc-ef26-7c25baba9b6b"
      },
      "source": [
        "print(model)"
      ],
      "execution_count": 39,
      "outputs": [
        {
          "output_type": "stream",
          "name": "stdout",
          "text": [
            "Net(\n",
            "  (conv1): Conv2d(1, 6, kernel_size=(5, 5), stride=(1, 1))\n",
            "  (pool): MaxPool2d(kernel_size=2, stride=2, padding=0, dilation=1, ceil_mode=False)\n",
            "  (conv2): Conv2d(6, 16, kernel_size=(5, 5), stride=(1, 1))\n",
            "  (fc1): Linear(in_features=256, out_features=50, bias=True)\n",
            "  (fc2): Linear(in_features=50, out_features=100, bias=True)\n",
            "  (fc3): Linear(in_features=100, out_features=10, bias=True)\n",
            ")\n"
          ]
        }
      ]
    },
    {
      "cell_type": "code",
      "metadata": {
        "id": "qVBe8DUpmwt-"
      },
      "source": [
        "import torch.optim as optim\n",
        "\n",
        "criterion = nn.CrossEntropyLoss()\n",
        "optimizer = optim.SGD(net.parameters(), lr=0.001, momentum=0.9)"
      ],
      "execution_count": 40,
      "outputs": []
    },
    {
      "cell_type": "code",
      "metadata": {
        "colab": {
          "base_uri": "https://localhost:8080/"
        },
        "id": "RjAkwwe6nLZQ",
        "outputId": "30c31bb5-ddfc-4b6d-b0c0-e1c22ca27383"
      },
      "source": [
        "for epoch in range(10):  # loop over the dataset multiple times\n",
        "\n",
        "    running_loss = 0.0\n",
        "    for i, data in enumerate(trainloader, 0):\n",
        "        # get the inputs; data is a list of [inputs, labels]\n",
        "        inputs, labels = data\n",
        "        # print(inputs.shape)\n",
        "        # zero the parameter gradients\n",
        "        optimizer.zero_grad()\n",
        "\n",
        "        # forward + backward + optimize\n",
        "        outputs = net(inputs)\n",
        "        loss = criterion(outputs, labels)\n",
        "        loss.backward()\n",
        "        optimizer.step()\n",
        "\n",
        "        # print statistics\n",
        "        running_loss += loss.item()\n",
        "        if i % 20 == 19:    # print every 2000 mini-batches\n",
        "            print(\"[{}, {}] loss: {}\".format\n",
        "                  (epoch + 1, i + 1, running_loss / 2000))\n",
        "            running_loss = 0.0\n",
        "\n",
        "print('Finished Reraining')"
      ],
      "execution_count": 41,
      "outputs": [
        {
          "output_type": "stream",
          "name": "stdout",
          "text": [
            "[1, 20] loss: 0.003772250100970268\n",
            "[1, 40] loss: 0.0035867044031620025\n",
            "[1, 60] loss: 0.0033470877483487128\n",
            "[1, 80] loss: 0.0037434734031558036\n",
            "[1, 100] loss: 0.0036631953865289687\n",
            "[1, 120] loss: 0.003892331674695015\n",
            "[1, 140] loss: 0.0034026815742254257\n",
            "[1, 160] loss: 0.0027475959062576295\n",
            "[1, 180] loss: 0.003043649524450302\n",
            "[1, 200] loss: 0.003050462529063225\n",
            "[1, 220] loss: 0.002916663631796837\n",
            "[1, 240] loss: 0.00315389883518219\n",
            "[1, 260] loss: 0.0031958159655332565\n",
            "[1, 280] loss: 0.00246702741086483\n",
            "[1, 300] loss: 0.0028255219385027886\n",
            "[1, 320] loss: 0.0027658695355057715\n",
            "[1, 340] loss: 0.00296642754599452\n",
            "[1, 360] loss: 0.002764710146933794\n",
            "[1, 380] loss: 0.0025635625422000883\n",
            "[1, 400] loss: 0.0031047858335077764\n",
            "[1, 420] loss: 0.0025944182798266413\n",
            "[1, 440] loss: 0.002173855446279049\n",
            "[1, 460] loss: 0.0017420647814869882\n",
            "[2, 20] loss: 0.0022177101150155066\n",
            "[2, 40] loss: 0.0020342259146273137\n",
            "[2, 60] loss: 0.002068952813744545\n",
            "[2, 80] loss: 0.0024745532050728797\n",
            "[2, 100] loss: 0.002446434713900089\n",
            "[2, 120] loss: 0.0023837870955467225\n",
            "[2, 140] loss: 0.002122885726392269\n",
            "[2, 160] loss: 0.0017383657246828079\n",
            "[2, 180] loss: 0.0018489623181521893\n",
            "[2, 200] loss: 0.0018585594668984412\n",
            "[2, 220] loss: 0.0019599562995135785\n",
            "[2, 240] loss: 0.002055561441928148\n",
            "[2, 260] loss: 0.0020616034120321276\n",
            "[2, 280] loss: 0.0016694141291081906\n",
            "[2, 300] loss: 0.0018371406011283397\n",
            "[2, 320] loss: 0.0017514270693063736\n",
            "[2, 340] loss: 0.0020195610411465168\n",
            "[2, 360] loss: 0.0019074237234890461\n",
            "[2, 380] loss: 0.0017958665378391744\n",
            "[2, 400] loss: 0.0022520558144897224\n",
            "[2, 420] loss: 0.0018114852961152793\n",
            "[2, 440] loss: 0.0015655014961957932\n",
            "[2, 460] loss: 0.001200010146945715\n",
            "[3, 20] loss: 0.0015421199947595597\n",
            "[3, 40] loss: 0.0014221109449863434\n",
            "[3, 60] loss: 0.0015878393352031707\n",
            "[3, 80] loss: 0.0018495219275355339\n",
            "[3, 100] loss: 0.0017327278889715672\n",
            "[3, 120] loss: 0.0016444624960422515\n",
            "[3, 140] loss: 0.0015401662401854992\n",
            "[3, 160] loss: 0.001283530332148075\n",
            "[3, 180] loss: 0.0013464799746870995\n",
            "[3, 200] loss: 0.0013941762875765561\n",
            "[3, 220] loss: 0.0014854540154337883\n",
            "[3, 240] loss: 0.001522208098322153\n",
            "[3, 260] loss: 0.0014795939549803734\n",
            "[3, 280] loss: 0.0012514778543263674\n",
            "[3, 300] loss: 0.0013626658990979195\n",
            "[3, 320] loss: 0.0012686390206217766\n",
            "[3, 340] loss: 0.0015518959108740092\n",
            "[3, 360] loss: 0.0014537539556622506\n",
            "[3, 380] loss: 0.0013739529307931662\n",
            "[3, 400] loss: 0.0017314809672534465\n",
            "[3, 420] loss: 0.001420640628784895\n",
            "[3, 440] loss: 0.001268536776304245\n",
            "[3, 460] loss: 0.0009399403277784586\n",
            "[4, 20] loss: 0.0011947125680744648\n",
            "[4, 40] loss: 0.0010753421168774367\n",
            "[4, 60] loss: 0.001290468143299222\n",
            "[4, 80] loss: 0.001446853205561638\n",
            "[4, 100] loss: 0.001356957889162004\n",
            "[4, 120] loss: 0.0012736254781484603\n",
            "[4, 140] loss: 0.001239194691181183\n",
            "[4, 160] loss: 0.001039979724213481\n",
            "[4, 180] loss: 0.0010665844753384591\n",
            "[4, 200] loss: 0.0011109720077365638\n",
            "[4, 220] loss: 0.0012153560873121023\n",
            "[4, 240] loss: 0.0012056957203894854\n",
            "[4, 260] loss: 0.0011683936454355717\n",
            "[4, 280] loss: 0.0010320572275668383\n",
            "[4, 300] loss: 0.0011300709489732981\n",
            "[4, 320] loss: 0.0010274434182792902\n",
            "[4, 340] loss: 0.0012943883473053575\n",
            "[4, 360] loss: 0.001190225027501583\n",
            "[4, 380] loss: 0.0011534398198127746\n",
            "[4, 400] loss: 0.0014233024613931776\n",
            "[4, 420] loss: 0.0011905750008299946\n",
            "[4, 440] loss: 0.0010752992350608111\n",
            "[4, 460] loss: 0.0007863563187420368\n",
            "[5, 20] loss: 0.0009896508213132619\n",
            "[5, 40] loss: 0.0008819799143821001\n",
            "[5, 60] loss: 0.0011087560150772333\n",
            "[5, 80] loss: 0.001217124929651618\n",
            "[5, 100] loss: 0.0011363709373399616\n",
            "[5, 120] loss: 0.00105419347807765\n",
            "[5, 140] loss: 0.0010567447356879711\n",
            "[5, 160] loss: 0.0008893721038475633\n",
            "[5, 180] loss: 0.0009061974259093404\n",
            "[5, 200] loss: 0.0009470819337293506\n",
            "[5, 220] loss: 0.001056939272210002\n",
            "[5, 240] loss: 0.0010056791305541992\n",
            "[5, 260] loss: 0.0009793678261339664\n",
            "[5, 280] loss: 0.0008954128650948405\n",
            "[5, 300] loss: 0.0009898065738379955\n",
            "[5, 320] loss: 0.0008778569130226969\n",
            "[5, 340] loss: 0.0011337760481983424\n",
            "[5, 360] loss: 0.001023114077746868\n",
            "[5, 380] loss: 0.0010182191105559469\n",
            "[5, 400] loss: 0.0012243067920207978\n",
            "[5, 420] loss: 0.0010444359220564364\n",
            "[5, 440] loss: 0.0009412663113325835\n",
            "[5, 460] loss: 0.0006868587783537806\n",
            "[6, 20] loss: 0.0008699060827493668\n",
            "[6, 40] loss: 0.000772317343391478\n",
            "[6, 60] loss: 0.0009971615467220544\n",
            "[6, 80] loss: 0.0010704503506422042\n",
            "[6, 100] loss: 0.0009627476939931512\n",
            "[6, 120] loss: 0.0008948704153299332\n",
            "[6, 140] loss: 0.0009210028890520335\n",
            "[6, 160] loss: 0.0007859855014830828\n",
            "[6, 180] loss: 0.0007998893018811941\n",
            "[6, 200] loss: 0.000833388582803309\n",
            "[6, 220] loss: 0.0009621177762746811\n",
            "[6, 240] loss: 0.0008638605494052172\n",
            "[6, 260] loss: 0.0008492091819643974\n",
            "[6, 280] loss: 0.0008063331982120872\n",
            "[6, 300] loss: 0.0008894985932856798\n",
            "[6, 320] loss: 0.0007763144541531801\n",
            "[6, 340] loss: 0.0010163359604775906\n",
            "[6, 360] loss: 0.0009031973090022803\n",
            "[6, 380] loss: 0.0009185016714036465\n",
            "[6, 400] loss: 0.0010987397814169527\n",
            "[6, 420] loss: 0.000938308984041214\n",
            "[6, 440] loss: 0.0008423873707652092\n",
            "[6, 460] loss: 0.0006133503546006978\n",
            "[7, 20] loss: 0.0007888013254851103\n",
            "[7, 40] loss: 0.0006969942385330796\n",
            "[7, 60] loss: 0.0009108955720439553\n",
            "[7, 80] loss: 0.0009593924768269062\n",
            "[7, 100] loss: 0.0008609490506350994\n",
            "[7, 120] loss: 0.0007898715399205685\n",
            "[7, 140] loss: 0.0008239141684025526\n",
            "[7, 160] loss: 0.0007078924849629403\n",
            "[7, 180] loss: 0.0007180195972323418\n",
            "[7, 200] loss: 0.0007486322056502103\n",
            "[7, 220] loss: 0.0008990955986082553\n",
            "[7, 240] loss: 0.0007552781105041504\n",
            "[7, 260] loss: 0.0007543791318312288\n",
            "[7, 280] loss: 0.0007445581136271358\n",
            "[7, 300] loss: 0.000812167227268219\n",
            "[7, 320] loss: 0.0007025735303759575\n",
            "[7, 340] loss: 0.0009241229426115752\n",
            "[7, 360] loss: 0.0008128323424607516\n",
            "[7, 380] loss: 0.0008371305121108889\n",
            "[7, 400] loss: 0.0010075854160822928\n",
            "[7, 420] loss: 0.0008561414508149028\n",
            "[7, 440] loss: 0.0007651714850217104\n",
            "[7, 460] loss: 0.0005573812117800116\n",
            "[8, 20] loss: 0.0007277888674288988\n",
            "[8, 40] loss: 0.0006370435561984778\n",
            "[8, 60] loss: 0.0008379377843812108\n",
            "[8, 80] loss: 0.0008677512705326081\n",
            "[8, 100] loss: 0.0007692167982459068\n",
            "[8, 120] loss: 0.0007007761290296912\n",
            "[8, 140] loss: 0.0007542887069284916\n",
            "[8, 160] loss: 0.0006485482836142182\n",
            "[8, 180] loss: 0.0006551676411181689\n",
            "[8, 200] loss: 0.0006816757656633854\n",
            "[8, 220] loss: 0.0008474614312872291\n",
            "[8, 240] loss: 0.0006715320562943817\n",
            "[8, 260] loss: 0.0006826817663386464\n",
            "[8, 280] loss: 0.000696057025808841\n",
            "[8, 300] loss: 0.0007517067175358534\n",
            "[8, 320] loss: 0.0006453425260260702\n",
            "[8, 340] loss: 0.0008511360893025994\n",
            "[8, 360] loss: 0.0007436444330960512\n",
            "[8, 380] loss: 0.000772452499717474\n",
            "[8, 400] loss: 0.0009329647151753306\n",
            "[8, 420] loss: 0.0007901450535282492\n",
            "[8, 440] loss: 0.0007032762002199888\n",
            "[8, 460] loss: 0.0005084969934541732\n",
            "[9, 20] loss: 0.0006744230603799224\n",
            "[9, 40] loss: 0.0005898007620126009\n",
            "[9, 60] loss: 0.0007752070222049952\n",
            "[9, 80] loss: 0.0007933830358088016\n",
            "[9, 100] loss: 0.0006858151210471987\n",
            "[9, 120] loss: 0.000620842607691884\n",
            "[9, 140] loss: 0.0006980855530127883\n",
            "[9, 160] loss: 0.0006018656278029084\n",
            "[9, 180] loss: 0.0006005406426265836\n",
            "[9, 200] loss: 0.0006266280328854918\n",
            "[9, 220] loss: 0.0008070731954649091\n",
            "[9, 240] loss: 0.0006062671355903149\n",
            "[9, 260] loss: 0.0006205216431990266\n",
            "[9, 280] loss: 0.0006583818402141333\n",
            "[9, 300] loss: 0.0007002028245478868\n",
            "[9, 320] loss: 0.0005970930410549044\n",
            "[9, 340] loss: 0.0007901663957163692\n",
            "[9, 360] loss: 0.0006884278580546379\n",
            "[9, 380] loss: 0.0007174803768284619\n",
            "[9, 400] loss: 0.000873045939952135\n",
            "[9, 420] loss: 0.0007394624017179012\n",
            "[9, 440] loss: 0.0006479575261473656\n",
            "[9, 460] loss: 0.0004655208745971322\n",
            "[10, 20] loss: 0.0006296446984633803\n",
            "[10, 40] loss: 0.0005486938143149018\n",
            "[10, 60] loss: 0.0007183502027764916\n",
            "[10, 80] loss: 0.0007336448347195983\n",
            "[10, 100] loss: 0.0006172104706056416\n",
            "[10, 120] loss: 0.0005581078296527267\n",
            "[10, 140] loss: 0.0006567158894613386\n",
            "[10, 160] loss: 0.0005653419932350516\n",
            "[10, 180] loss: 0.0005550464573316277\n",
            "[10, 200] loss: 0.0005796273285523057\n",
            "[10, 220] loss: 0.0007692363820970058\n",
            "[10, 240] loss: 0.0005535225220955908\n",
            "[10, 260] loss: 0.0005756272999569773\n",
            "[10, 280] loss: 0.000625509045086801\n",
            "[10, 300] loss: 0.0006559944897890091\n",
            "[10, 320] loss: 0.0005560379261150956\n",
            "[10, 340] loss: 0.0007406562734395266\n",
            "[10, 360] loss: 0.0006406585201621056\n",
            "[10, 380] loss: 0.0006723895235918462\n",
            "[10, 400] loss: 0.0008230804989580065\n",
            "[10, 420] loss: 0.000695181907620281\n",
            "[10, 440] loss: 0.0006005911082029343\n",
            "[10, 460] loss: 0.00043406273610889913\n",
            "Finished Reraining\n"
          ]
        }
      ]
    },
    {
      "cell_type": "code",
      "metadata": {
        "colab": {
          "base_uri": "https://localhost:8080/"
        },
        "id": "nAvKwu7MnY8U",
        "outputId": "efc88e6a-5b03-4d19-df3e-b8b64f4ffc16"
      },
      "source": [
        "correct = 0\n",
        "total = 0\n",
        "with torch.no_grad():\n",
        "    for data in testloader:\n",
        "        images, labels = data\n",
        "        outputs = net(images)\n",
        "        _, predicted = torch.max(outputs.data, 1)\n",
        "        total += labels.size(0)\n",
        "        correct += (predicted == labels).sum().item()\n",
        "\n",
        "print('Accuracy of the network on the test images: %f %%' % (\n",
        "    100 * correct / total))"
      ],
      "execution_count": 42,
      "outputs": [
        {
          "output_type": "stream",
          "name": "stdout",
          "text": [
            "Accuracy of the network on the test images: 97.930000 %\n"
          ]
        }
      ]
    },
    {
      "cell_type": "code",
      "metadata": {
        "colab": {
          "base_uri": "https://localhost:8080/"
        },
        "id": "MPSKizHwrM0T",
        "outputId": "392686f2-c30d-4702-c3c7-2300a212b6bc"
      },
      "source": [
        "print(model)"
      ],
      "execution_count": 43,
      "outputs": [
        {
          "output_type": "stream",
          "name": "stdout",
          "text": [
            "Net(\n",
            "  (conv1): Conv2d(1, 6, kernel_size=(5, 5), stride=(1, 1))\n",
            "  (pool): MaxPool2d(kernel_size=2, stride=2, padding=0, dilation=1, ceil_mode=False)\n",
            "  (conv2): Conv2d(6, 16, kernel_size=(5, 5), stride=(1, 1))\n",
            "  (fc1): Linear(in_features=256, out_features=50, bias=True)\n",
            "  (fc2): Linear(in_features=50, out_features=100, bias=True)\n",
            "  (fc3): Linear(in_features=100, out_features=10, bias=True)\n",
            ")\n"
          ]
        }
      ]
    },
    {
      "cell_type": "markdown",
      "metadata": {
        "id": "PeLxtr53rXY5"
      },
      "source": [
        "#Layer 2 Pruning based on layer 3"
      ]
    },
    {
      "cell_type": "code",
      "metadata": {
        "id": "fkoHWihGrczg"
      },
      "source": [
        "layer2 = tuple(model.fc2.parameters())\n",
        "layer3 = tuple(model.fc3.parameters())"
      ],
      "execution_count": 51,
      "outputs": []
    },
    {
      "cell_type": "code",
      "metadata": {
        "colab": {
          "base_uri": "https://localhost:8080/"
        },
        "id": "GsOj6LKhrn2h",
        "outputId": "58c7bd18-2cbc-485e-cd40-f0c7c0473fb9"
      },
      "source": [
        "model.fc3.weight.shape"
      ],
      "execution_count": 52,
      "outputs": [
        {
          "output_type": "execute_result",
          "data": {
            "text/plain": [
              "torch.Size([10, 100])"
            ]
          },
          "metadata": {},
          "execution_count": 52
        }
      ]
    },
    {
      "cell_type": "code",
      "metadata": {
        "id": "5rIaDVQsrqUc"
      },
      "source": [
        "num_core_n = 25\n",
        "beta = 1\n",
        "\n",
        "l2, l3, ind = compress_fc_layer(layer2, layer3, num_core_n , relu, beta , \"cpu\", \"Coreset\")"
      ],
      "execution_count": 53,
      "outputs": []
    },
    {
      "cell_type": "code",
      "metadata": {
        "colab": {
          "base_uri": "https://localhost:8080/"
        },
        "id": "FYjC1IMPr2dn",
        "outputId": "ae360561-f359-4230-d085-b37626446fc9"
      },
      "source": [
        "[len(a) for a in l3]"
      ],
      "execution_count": 56,
      "outputs": [
        {
          "output_type": "execute_result",
          "data": {
            "text/plain": [
              "[10, 10]"
            ]
          },
          "metadata": {},
          "execution_count": 56
        }
      ]
    },
    {
      "cell_type": "code",
      "metadata": {
        "id": "kS8YaaWlr7Bx"
      },
      "source": [
        "model.fc2 = nn.Linear(l2[0].shape[1], l2[0].shape[0])\n",
        "model.fc3 = nn.Linear(l3[0].shape[1], l3[0].shape[0])\n",
        "\n",
        "with torch.no_grad():\n",
        "    model.fc2.weight.copy_(l2[0])\n",
        "    model.fc2.bias.copy_(l2[1])\n",
        "    model.fc3.weight.copy_(l3[0])\n",
        "    model.fc3.bias.copy_(l3[1])"
      ],
      "execution_count": 57,
      "outputs": []
    },
    {
      "cell_type": "code",
      "metadata": {
        "colab": {
          "base_uri": "https://localhost:8080/"
        },
        "id": "JnZA86nusbBl",
        "outputId": "4f0a1fd0-b103-43d2-cea4-11c08e1c29da"
      },
      "source": [
        "print(model)"
      ],
      "execution_count": 58,
      "outputs": [
        {
          "output_type": "stream",
          "name": "stdout",
          "text": [
            "Net(\n",
            "  (conv1): Conv2d(1, 6, kernel_size=(5, 5), stride=(1, 1))\n",
            "  (pool): MaxPool2d(kernel_size=2, stride=2, padding=0, dilation=1, ceil_mode=False)\n",
            "  (conv2): Conv2d(6, 16, kernel_size=(5, 5), stride=(1, 1))\n",
            "  (fc1): Linear(in_features=256, out_features=50, bias=True)\n",
            "  (fc2): Linear(in_features=50, out_features=25, bias=True)\n",
            "  (fc3): Linear(in_features=25, out_features=10, bias=True)\n",
            ")\n"
          ]
        }
      ]
    },
    {
      "cell_type": "code",
      "metadata": {
        "id": "xIYgPk0Isdl_"
      },
      "source": [
        "import torch.optim as optim\n",
        "\n",
        "criterion = nn.CrossEntropyLoss()\n",
        "optimizer = optim.SGD(net.parameters(), lr=0.001, momentum=0.9)"
      ],
      "execution_count": 59,
      "outputs": []
    },
    {
      "cell_type": "code",
      "metadata": {
        "colab": {
          "base_uri": "https://localhost:8080/"
        },
        "id": "SkkvnQ6LskIj",
        "outputId": "fa15bb91-53b2-4fd5-8174-3c9ca55705bd"
      },
      "source": [
        "for epoch in range(10):  # loop over the dataset multiple times\n",
        "\n",
        "    running_loss = 0.0\n",
        "    for i, data in enumerate(trainloader, 0):\n",
        "        # get the inputs; data is a list of [inputs, labels]\n",
        "        inputs, labels = data\n",
        "        # print(inputs.shape)\n",
        "        # zero the parameter gradients\n",
        "        optimizer.zero_grad()\n",
        "\n",
        "        # forward + backward + optimize\n",
        "        outputs = net(inputs)\n",
        "        loss = criterion(outputs, labels)\n",
        "        loss.backward()\n",
        "        optimizer.step()\n",
        "\n",
        "        # print statistics\n",
        "        running_loss += loss.item()\n",
        "        if i % 20 == 19:    # print every 2000 mini-batches\n",
        "            print(\"[{}, {}] loss: {}\".format\n",
        "                  (epoch + 1, i + 1, running_loss / 2000))\n",
        "            running_loss = 0.0\n",
        "\n",
        "print('Finished Reraining')"
      ],
      "execution_count": 60,
      "outputs": [
        {
          "output_type": "stream",
          "name": "stdout",
          "text": [
            "[1, 20] loss: 0.0005789671568199993\n",
            "[1, 40] loss: 0.00051240194728598\n",
            "[1, 60] loss: 0.0006788657288998365\n",
            "[1, 80] loss: 0.0006780273383483291\n",
            "[1, 100] loss: 0.0005728032554034143\n",
            "[1, 120] loss: 0.0005050754318945109\n",
            "[1, 140] loss: 0.0006201593736186624\n",
            "[1, 160] loss: 0.0005338320704177022\n",
            "[1, 180] loss: 0.0005170704592019319\n",
            "[1, 200] loss: 0.0005440214904956519\n",
            "[1, 220] loss: 0.0007376004755496979\n",
            "[1, 240] loss: 0.0005114182522520423\n",
            "[1, 260] loss: 0.0005392436496913433\n",
            "[1, 280] loss: 0.0005973276984877885\n",
            "[1, 300] loss: 0.0006202204870060086\n",
            "[1, 320] loss: 0.0005212844056077301\n",
            "[1, 340] loss: 0.0007022701539099217\n",
            "[1, 360] loss: 0.0006026241723448039\n",
            "[1, 380] loss: 0.0006337221176363528\n",
            "[1, 400] loss: 0.0007763129917439073\n",
            "[1, 420] loss: 0.0006610381701029838\n",
            "[1, 440] loss: 0.0005607548784464598\n",
            "[1, 460] loss: 0.00040976276132278144\n",
            "[2, 20] loss: 0.0005663281790912151\n",
            "[2, 40] loss: 0.0004799041268415749\n",
            "[2, 60] loss: 0.0006377864284440875\n",
            "[2, 80] loss: 0.0006410947227850556\n",
            "[2, 100] loss: 0.0005199150578118861\n",
            "[2, 120] loss: 0.0004642481543123722\n",
            "[2, 140] loss: 0.0005871735080145299\n",
            "[2, 160] loss: 0.0005022264928556979\n",
            "[2, 180] loss: 0.00048161063576117156\n",
            "[2, 200] loss: 0.0005103215291164815\n",
            "[2, 220] loss: 0.0007089728182181716\n",
            "[2, 240] loss: 0.0004726716158911586\n",
            "[2, 260] loss: 0.0005092485374771058\n",
            "[2, 280] loss: 0.0005722821664530783\n",
            "[2, 300] loss: 0.0005883602667599916\n",
            "[2, 320] loss: 0.0004933153199963272\n",
            "[2, 340] loss: 0.0006643137070350349\n",
            "[2, 360] loss: 0.0005659224670380354\n",
            "[2, 380] loss: 0.0005973292663693428\n",
            "[2, 400] loss: 0.0007329382910393179\n",
            "[2, 420] loss: 0.0006316272281110287\n",
            "[2, 440] loss: 0.0005236632693558931\n",
            "[2, 460] loss: 0.00038419811823405323\n",
            "[3, 20] loss: 0.0005357064711861313\n",
            "[3, 40] loss: 0.0004510036143474281\n",
            "[3, 60] loss: 0.0006033136257901788\n",
            "[3, 80] loss: 0.0006034802095964551\n",
            "[3, 100] loss: 0.00048185687279328704\n",
            "[3, 120] loss: 0.00043029670137912035\n",
            "[3, 140] loss: 0.0005556688150390982\n",
            "[3, 160] loss: 0.0004758509821258485\n",
            "[3, 180] loss: 0.0004488383186981082\n",
            "[3, 200] loss: 0.0004794609206728637\n",
            "[3, 220] loss: 0.0006802556840702892\n",
            "[3, 240] loss: 0.0004385531269945204\n",
            "[3, 260] loss: 0.0004831750667653978\n",
            "[3, 280] loss: 0.0005494241374544799\n",
            "[3, 300] loss: 0.000562545308843255\n",
            "[3, 320] loss: 0.0004690799182280898\n",
            "[3, 340] loss: 0.0006306577613577247\n",
            "[3, 360] loss: 0.0005368947600945831\n",
            "[3, 380] loss: 0.0005686742174439133\n",
            "[3, 400] loss: 0.0006907182845752686\n",
            "[3, 420] loss: 0.0006053388998843729\n",
            "[3, 440] loss: 0.00048710314370691775\n",
            "[3, 460] loss: 0.0003639307867269963\n",
            "[4, 20] loss: 0.0005108307022601366\n",
            "[4, 40] loss: 0.00042519779223948716\n",
            "[4, 60] loss: 0.0005727510638535023\n",
            "[4, 80] loss: 0.0005677748983725906\n",
            "[4, 100] loss: 0.00045556648867204784\n",
            "[4, 120] loss: 0.0004062441485002637\n",
            "[4, 140] loss: 0.0005284520839340985\n",
            "[4, 160] loss: 0.0004537981157191098\n",
            "[4, 180] loss: 0.00042158560175448655\n",
            "[4, 200] loss: 0.0004533558525145054\n",
            "[4, 220] loss: 0.0006533448644913733\n",
            "[4, 240] loss: 0.0004095854228362441\n",
            "[4, 260] loss: 0.0004608188080601394\n",
            "[4, 280] loss: 0.0005271555958315731\n",
            "[4, 300] loss: 0.0005389157230965793\n",
            "[4, 320] loss: 0.00044916069088503716\n",
            "[4, 340] loss: 0.0006034478088840842\n",
            "[4, 360] loss: 0.0005101241609081626\n",
            "[4, 380] loss: 0.0005422388403676451\n",
            "[4, 400] loss: 0.0006518294559791684\n",
            "[4, 420] loss: 0.0005795696233399213\n",
            "[4, 440] loss: 0.00045576116675511005\n",
            "[4, 460] loss: 0.0003446866762824357\n",
            "[5, 20] loss: 0.0004914632397703826\n",
            "[5, 40] loss: 0.0004033321738243103\n",
            "[5, 60] loss: 0.0005451594442129136\n",
            "[5, 80] loss: 0.0005358081515878439\n",
            "[5, 100] loss: 0.0004342865536455065\n",
            "[5, 120] loss: 0.0003842570353299379\n",
            "[5, 140] loss: 0.000503153960686177\n",
            "[5, 160] loss: 0.00043289675191044807\n",
            "[5, 180] loss: 0.00039473029086366295\n",
            "[5, 200] loss: 0.00043011132813990116\n",
            "[5, 220] loss: 0.0006288779629394412\n",
            "[5, 240] loss: 0.00038696946040727196\n",
            "[5, 260] loss: 0.000440256298519671\n",
            "[5, 280] loss: 0.0005086231222376227\n",
            "[5, 300] loss: 0.0005158735024742782\n",
            "[5, 320] loss: 0.00042917381087318065\n",
            "[5, 340] loss: 0.0005749076739884913\n",
            "[5, 360] loss: 0.00048510532919317483\n",
            "[5, 380] loss: 0.0005185899706557393\n",
            "[5, 400] loss: 0.000619554216042161\n",
            "[5, 420] loss: 0.0005575859867967666\n",
            "[5, 440] loss: 0.0004293783940374851\n",
            "[5, 460] loss: 0.0003297984879463911\n",
            "[6, 20] loss: 0.00047405897732824087\n",
            "[6, 40] loss: 0.0003857162147760391\n",
            "[6, 60] loss: 0.0005203227405436337\n",
            "[6, 80] loss: 0.0005073228375986218\n",
            "[6, 100] loss: 0.0004133812084328383\n",
            "[6, 120] loss: 0.000365271907299757\n",
            "[6, 140] loss: 0.00047942036064341665\n",
            "[6, 160] loss: 0.0004149610418826342\n",
            "[6, 180] loss: 0.0003702286088373512\n",
            "[6, 200] loss: 0.0004104076155927032\n",
            "[6, 220] loss: 0.000605390811804682\n",
            "[6, 240] loss: 0.00036460632015950976\n",
            "[6, 260] loss: 0.00042252642894163725\n",
            "[6, 280] loss: 0.0004909286785405129\n",
            "[6, 300] loss: 0.0004925405052490533\n",
            "[6, 320] loss: 0.00041290207067504523\n",
            "[6, 340] loss: 0.00055013891402632\n",
            "[6, 360] loss: 0.0004595571421086788\n",
            "[6, 380] loss: 0.0004982364450115711\n",
            "[6, 400] loss: 0.0005891690300777555\n",
            "[6, 420] loss: 0.0005365520087070763\n",
            "[6, 440] loss: 0.00040556133538484574\n",
            "[6, 460] loss: 0.000315803247387521\n",
            "[7, 20] loss: 0.00045758785074576737\n",
            "[7, 40] loss: 0.0003698716494254768\n",
            "[7, 60] loss: 0.000497382469009608\n",
            "[7, 80] loss: 0.00048044005688279866\n",
            "[7, 100] loss: 0.00040524053503759205\n",
            "[7, 120] loss: 0.00034975202148780225\n",
            "[7, 140] loss: 0.00045689040096476676\n",
            "[7, 160] loss: 0.00039708991488441827\n",
            "[7, 180] loss: 0.00034873430291190743\n",
            "[7, 200] loss: 0.0003921089810319245\n",
            "[7, 220] loss: 0.000583595521748066\n",
            "[7, 240] loss: 0.0003440458516124636\n",
            "[7, 260] loss: 0.0004057577080093324\n",
            "[7, 280] loss: 0.0004746485047508031\n",
            "[7, 300] loss: 0.00047401723451912404\n",
            "[7, 320] loss: 0.00039884082111530007\n",
            "[7, 340] loss: 0.0005262752720154822\n",
            "[7, 360] loss: 0.00043847485166043044\n",
            "[7, 380] loss: 0.0004794661889318377\n",
            "[7, 400] loss: 0.0005595509510021657\n",
            "[7, 420] loss: 0.0005196951860561967\n",
            "[7, 440] loss: 0.0003832261934876442\n",
            "[7, 460] loss: 0.00030362593033351007\n",
            "[8, 20] loss: 0.0004402548521757126\n",
            "[8, 40] loss: 0.00035403129644691946\n",
            "[8, 60] loss: 0.0004770962647162378\n",
            "[8, 80] loss: 0.00045474929315969347\n",
            "[8, 100] loss: 0.00038662712601944803\n",
            "[8, 120] loss: 0.0003341815629974008\n",
            "[8, 140] loss: 0.0004379534833133221\n",
            "[8, 160] loss: 0.0003811288638971746\n",
            "[8, 180] loss: 0.000329141968395561\n",
            "[8, 200] loss: 0.000374244540464133\n",
            "[8, 220] loss: 0.0005638356953859329\n",
            "[8, 240] loss: 0.00032578054419718684\n",
            "[8, 260] loss: 0.00038985642790794373\n",
            "[8, 280] loss: 0.0004591220950242132\n",
            "[8, 300] loss: 0.0004570414675399661\n",
            "[8, 320] loss: 0.0003853100186679512\n",
            "[8, 340] loss: 0.0005052925515919924\n",
            "[8, 360] loss: 0.000419940619263798\n",
            "[8, 380] loss: 0.0004603229656349868\n",
            "[8, 400] loss: 0.0005338721444131806\n",
            "[8, 420] loss: 0.0005021771863102913\n",
            "[8, 440] loss: 0.00036218582140281794\n",
            "[8, 460] loss: 0.00029285243863705546\n",
            "[9, 20] loss: 0.0004240644290111959\n",
            "[9, 40] loss: 0.000339761289767921\n",
            "[9, 60] loss: 0.0004571086536161602\n",
            "[9, 80] loss: 0.00043192247161641715\n",
            "[9, 100] loss: 0.0003782311714021489\n",
            "[9, 120] loss: 0.0003216327391564846\n",
            "[9, 140] loss: 0.0004181818200740963\n",
            "[9, 160] loss: 0.000367415240034461\n",
            "[9, 180] loss: 0.0003146291123703122\n",
            "[9, 200] loss: 0.00035957820201292634\n",
            "[9, 220] loss: 0.0005472442228347063\n",
            "[9, 240] loss: 0.0003083867048844695\n",
            "[9, 260] loss: 0.0003744180293288082\n",
            "[9, 280] loss: 0.0004451278334017843\n",
            "[9, 300] loss: 0.00044092933414503934\n",
            "[9, 320] loss: 0.00037469241628423336\n",
            "[9, 340] loss: 0.00048500758269801736\n",
            "[9, 360] loss: 0.0004041767488233745\n",
            "[9, 380] loss: 0.0004439442863222212\n",
            "[9, 400] loss: 0.0005096185667207465\n",
            "[9, 420] loss: 0.00048692990932613613\n",
            "[9, 440] loss: 0.0003423299603164196\n",
            "[9, 460] loss: 0.00028138356306590137\n",
            "[10, 20] loss: 0.00041061564302071927\n",
            "[10, 40] loss: 0.00032604288309812546\n",
            "[10, 60] loss: 0.0004405440939590335\n",
            "[10, 80] loss: 0.00040951776411384346\n",
            "[10, 100] loss: 0.0003628334240056574\n",
            "[10, 120] loss: 0.00030896881269291043\n",
            "[10, 140] loss: 0.00039967526658438147\n",
            "[10, 160] loss: 0.0003546681192237884\n",
            "[10, 180] loss: 0.00029889464611187577\n",
            "[10, 200] loss: 0.00034485409990884364\n",
            "[10, 220] loss: 0.0005302585721947252\n",
            "[10, 240] loss: 0.0002928007110022008\n",
            "[10, 260] loss: 0.00035968331759795544\n",
            "[10, 280] loss: 0.0004325029940810055\n",
            "[10, 300] loss: 0.0004254300440661609\n",
            "[10, 320] loss: 0.0003634458731394261\n",
            "[10, 340] loss: 0.00046596913691610096\n",
            "[10, 360] loss: 0.00038883108785375955\n",
            "[10, 380] loss: 0.0004287771095987409\n",
            "[10, 400] loss: 0.0004866160834208131\n",
            "[10, 420] loss: 0.00047186145861633123\n",
            "[10, 440] loss: 0.0003256956138648093\n",
            "[10, 460] loss: 0.00027046879788395015\n",
            "Finished Reraining\n"
          ]
        }
      ]
    },
    {
      "cell_type": "code",
      "metadata": {
        "colab": {
          "base_uri": "https://localhost:8080/"
        },
        "id": "p6hakW-0spc0",
        "outputId": "6d972906-4743-4814-8a5b-bae1f5e4f3ba"
      },
      "source": [
        "correct = 0\n",
        "total = 0\n",
        "with torch.no_grad():\n",
        "    for data in testloader:\n",
        "        images, labels = data\n",
        "        outputs = net(images)\n",
        "        _, predicted = torch.max(outputs.data, 1)\n",
        "        total += labels.size(0)\n",
        "        correct += (predicted == labels).sum().item()\n",
        "\n",
        "print('Accuracy of the network on the test images: %f %%' % (\n",
        "    100 * correct / total))"
      ],
      "execution_count": 61,
      "outputs": [
        {
          "output_type": "stream",
          "name": "stdout",
          "text": [
            "Accuracy of the network on the test images: 98.450000 %\n"
          ]
        }
      ]
    },
    {
      "cell_type": "code",
      "metadata": {
        "colab": {
          "base_uri": "https://localhost:8080/"
        },
        "id": "eaUoEfW9tU-m",
        "outputId": "ad98a4b9-a47f-4185-def7-386bee69e5a4"
      },
      "source": [
        "print(model)"
      ],
      "execution_count": 62,
      "outputs": [
        {
          "output_type": "stream",
          "name": "stdout",
          "text": [
            "Net(\n",
            "  (conv1): Conv2d(1, 6, kernel_size=(5, 5), stride=(1, 1))\n",
            "  (pool): MaxPool2d(kernel_size=2, stride=2, padding=0, dilation=1, ceil_mode=False)\n",
            "  (conv2): Conv2d(6, 16, kernel_size=(5, 5), stride=(1, 1))\n",
            "  (fc1): Linear(in_features=256, out_features=50, bias=True)\n",
            "  (fc2): Linear(in_features=50, out_features=25, bias=True)\n",
            "  (fc3): Linear(in_features=25, out_features=10, bias=True)\n",
            ")\n"
          ]
        }
      ]
    },
    {
      "cell_type": "code",
      "metadata": {
        "id": "ubN1SavGtXoI"
      },
      "source": [
        ""
      ],
      "execution_count": null,
      "outputs": []
    }
  ]
}